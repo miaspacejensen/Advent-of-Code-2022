{
 "cells": [
  {
   "cell_type": "markdown",
   "metadata": {},
   "source": [
    "Part 1"
   ]
  },
  {
   "cell_type": "code",
   "execution_count": 17,
   "metadata": {},
   "outputs": [],
   "source": [
    "def get_data(file_name):\n",
    "    with open(file_name, \"r\") as file:\n",
    "        lines = file.read() \n",
    "    lines = lines.split(\"\\n\\n\")\n",
    "    lines = [line.split(\"\\n\") for line in lines]\n",
    "    return lines"
   ]
  },
  {
   "cell_type": "code",
   "execution_count": 29,
   "metadata": {},
   "outputs": [],
   "source": [
    "elves = get_data(\"input.txt\")"
   ]
  },
  {
   "cell_type": "code",
   "execution_count": 48,
   "metadata": {},
   "outputs": [
    {
     "name": "stdout",
     "output_type": "stream",
     "text": [
      "69310\n"
     ]
    }
   ],
   "source": [
    "max_calories = 0\n",
    "selected_elf = 0\n",
    "for i, elf in enumerate(elves):\n",
    "    calories = [int(calorie) for calorie in elf]\n",
    "    sum_calories = sum(calories)\n",
    "    if sum_calories > max_calories:\n",
    "        max_calories = sum_calories\n",
    "        selected_elf = i\n",
    "\n",
    "print(max_calories)"
   ]
  },
  {
   "cell_type": "markdown",
   "metadata": {},
   "source": [
    "Part 2"
   ]
  },
  {
   "cell_type": "code",
   "execution_count": 49,
   "metadata": {},
   "outputs": [],
   "source": [
    "max_calories = 0\n",
    "selected_elf = 0\n",
    "calorie_dic = {}\n",
    "for i, elf in enumerate(elves):\n",
    "    calories = [int(calorie) for calorie in elf]\n",
    "    sum_calories = sum(calories)\n",
    "    calorie_dic[i] = sum_calories"
   ]
  },
  {
   "cell_type": "code",
   "execution_count": 50,
   "metadata": {},
   "outputs": [
    {
     "data": {
      "text/plain": [
       "206104"
      ]
     },
     "execution_count": 50,
     "metadata": {},
     "output_type": "execute_result"
    }
   ],
   "source": [
    "calorie_dic_sorted = dict(sorted(calorie_dic.items(), key=lambda item: item[1]))\n",
    "top_three = list(calorie_dic_sorted.values())[-3:]\n",
    "sum_top_three = sum(top_three)\n",
    "sum_top_three"
   ]
  },
  {
   "cell_type": "code",
   "execution_count": null,
   "metadata": {},
   "outputs": [],
   "source": []
  }
 ],
 "metadata": {
  "kernelspec": {
   "display_name": "Python 3",
   "language": "python",
   "name": "python3"
  },
  "language_info": {
   "codemirror_mode": {
    "name": "ipython",
    "version": 3
   },
   "file_extension": ".py",
   "mimetype": "text/x-python",
   "name": "python",
   "nbconvert_exporter": "python",
   "pygments_lexer": "ipython3",
   "version": "3.11.3"
  }
 },
 "nbformat": 4,
 "nbformat_minor": 2
}
