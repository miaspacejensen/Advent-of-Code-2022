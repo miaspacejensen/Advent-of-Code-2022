{
 "cells": [
  {
   "cell_type": "markdown",
   "metadata": {},
   "source": [
    "Part 1"
   ]
  },
  {
   "cell_type": "code",
   "execution_count": 159,
   "metadata": {},
   "outputs": [],
   "source": [
    "def get_data(file_name):\n",
    "    with open(file_name, \"r\") as file:\n",
    "        lines = file.read() \n",
    "    lines = lines.split(\"\\n\\n\")\n",
    "    lines = [line.split(\"\\n\") for line in lines]\n",
    "    return lines"
   ]
  },
  {
   "cell_type": "code",
   "execution_count": 194,
   "metadata": {},
   "outputs": [],
   "source": [
    "lines = get_data(\"input.txt\")\n",
    "# lines"
   ]
  },
  {
   "cell_type": "code",
   "execution_count": 177,
   "metadata": {},
   "outputs": [],
   "source": [
    "stack_drawing = lines[0]\n",
    "stack_height = len(stack_drawing)-1\n",
    "stack_ids = stack_drawing[-1].rsplit(\" \")\n",
    "stack_ids = [val for val in stack_ids if val != \"\"]"
   ]
  },
  {
   "cell_type": "code",
   "execution_count": 179,
   "metadata": {},
   "outputs": [
    {
     "data": {
      "text/plain": [
       "['1', '2', '3', '4', '5', '6', '7', '8', '9']"
      ]
     },
     "execution_count": 179,
     "metadata": {},
     "output_type": "execute_result"
    }
   ],
   "source": [
    "stack_ids"
   ]
  },
  {
   "cell_type": "code",
   "execution_count": 183,
   "metadata": {},
   "outputs": [],
   "source": [
    "def create_stacks(stack_drawing, stack_ids):\n",
    "    stacks = {}\n",
    "    for id in stack_ids:\n",
    "\n",
    "        pos = stack_drawing[-1].find(id)\n",
    "\n",
    "        vals = []\n",
    "        for item in stack_drawing:\n",
    "            val = item[pos]\n",
    "            if val != id and val != \" \":\n",
    "                vals.append(val)\n",
    "\n",
    "        stacks[id] = list(reversed(vals))\n",
    "\n",
    "    return stacks"
   ]
  },
  {
   "cell_type": "code",
   "execution_count": 184,
   "metadata": {},
   "outputs": [
    {
     "data": {
      "text/plain": [
       "{'1': ['R', 'P', 'C', 'D', 'B', 'G'],\n",
       " '2': ['H', 'V', 'G'],\n",
       " '3': ['N', 'S', 'Q', 'D', 'J', 'P', 'M'],\n",
       " '4': ['P', 'S', 'L', 'G', 'D', 'C', 'N', 'M'],\n",
       " '5': ['J', 'B', 'N', 'C', 'P', 'F', 'L', 'S'],\n",
       " '6': ['Q', 'B', 'D', 'Z', 'V', 'G', 'T', 'S'],\n",
       " '7': ['B', 'Z', 'M', 'H', 'F', 'T', 'Q'],\n",
       " '8': ['C', 'M', 'D', 'B', 'F'],\n",
       " '9': ['F', 'C', 'Q', 'G']}"
      ]
     },
     "execution_count": 184,
     "metadata": {},
     "output_type": "execute_result"
    }
   ],
   "source": [
    "create_stacks(stack_drawing, stack_ids)"
   ]
  },
  {
   "cell_type": "code",
   "execution_count": 190,
   "metadata": {},
   "outputs": [],
   "source": [
    "stacks = create_stacks(stack_drawing, stack_ids)\n",
    "moves = lines[1]\n",
    "\n",
    "for move in moves:\n",
    "    move_split = move.rsplit(\" \")\n",
    "\n",
    "    #get variables\n",
    "    quant = int(move_split[1])\n",
    "    source_id = move_split[3]\n",
    "    dest_id = move_split[5]\n",
    "\n",
    "    #get source and dest stacks\n",
    "    source = stacks[source_id]\n",
    "    dest = stacks[dest_id]\n",
    "\n",
    "    #move quantity\n",
    "    new_source = source[:-quant]\n",
    "    new_dest = dest\n",
    "    for item in list(reversed(source[-quant:])):\n",
    "        new_dest += item\n",
    "\n",
    "    #update stacks\n",
    "    stacks[source_id] = new_source\n",
    "    stacks[dest_id] = new_dest"
   ]
  },
  {
   "cell_type": "code",
   "execution_count": 191,
   "metadata": {},
   "outputs": [
    {
     "data": {
      "text/plain": [
       "'TLNGFGMFN'"
      ]
     },
     "execution_count": 191,
     "metadata": {},
     "output_type": "execute_result"
    }
   ],
   "source": [
    "last_vals = {}\n",
    "for key, val in stacks.items():\n",
    "    if val:\n",
    "        last_vals[key] = val[-1]\n",
    "\n",
    "result = \"\".join(list(last_vals.values()))\n",
    "result"
   ]
  },
  {
   "cell_type": "markdown",
   "metadata": {},
   "source": [
    "Part 2"
   ]
  },
  {
   "cell_type": "code",
   "execution_count": 212,
   "metadata": {},
   "outputs": [],
   "source": [
    "lines = get_data(\"test_input.txt\")"
   ]
  },
  {
   "cell_type": "code",
   "execution_count": 213,
   "metadata": {},
   "outputs": [],
   "source": [
    "stack_drawing = lines[0]\n",
    "stack_height = len(stack_drawing)-1\n",
    "stack_ids = stack_drawing[-1].rsplit(\" \")\n",
    "stack_ids = [val for val in stack_ids if val != \"\"]"
   ]
  },
  {
   "cell_type": "code",
   "execution_count": 214,
   "metadata": {},
   "outputs": [
    {
     "name": "stdout",
     "output_type": "stream",
     "text": [
      "{'1': ['Z', 'N', 'D'], '2': ['M', 'C'], '3': ['P']}\n",
      "{'1': [], '2': ['M', 'C'], '3': ['P', 'Z', 'N', 'D']}\n",
      "{'1': ['M', 'C'], '2': [], '3': ['P', 'Z', 'N', 'D']}\n",
      "{'1': ['M'], '2': ['C'], '3': ['P', 'Z', 'N', 'D']}\n"
     ]
    }
   ],
   "source": [
    "stacks = create_stacks(stack_drawing, stack_ids)\n",
    "moves = lines[1]\n",
    "\n",
    "for move in moves:\n",
    "    move_split = move.rsplit(\" \")\n",
    "\n",
    "    #get variables\n",
    "    quant = int(move_split[1])\n",
    "    source_id = move_split[3]\n",
    "    dest_id = move_split[5]\n",
    "\n",
    "    #get source and dest stacks\n",
    "    source = stacks[source_id]\n",
    "    dest = stacks[dest_id]\n",
    "\n",
    "    #move quantity\n",
    "    new_source = source[:-quant]\n",
    "    new_dest = dest\n",
    "    if len(source) == quant:\n",
    "        new_dest += source[-quant:]\n",
    "    else:\n",
    "        for item in list(reversed(source[-quant:])):\n",
    "            new_dest += item\n",
    "\n",
    "    #update stacks\n",
    "    stacks[source_id] = new_source\n",
    "    stacks[dest_id] = new_dest\n",
    "\n",
    "    print(stacks)"
   ]
  },
  {
   "cell_type": "code",
   "execution_count": 215,
   "metadata": {},
   "outputs": [
    {
     "data": {
      "text/plain": [
       "'MCD'"
      ]
     },
     "execution_count": 215,
     "metadata": {},
     "output_type": "execute_result"
    }
   ],
   "source": [
    "last_vals = {}\n",
    "for key, val in stacks.items():\n",
    "    if val:\n",
    "        last_vals[key] = val[-1]\n",
    "\n",
    "result = \"\".join(list(last_vals.values()))\n",
    "result"
   ]
  },
  {
   "cell_type": "code",
   "execution_count": null,
   "metadata": {},
   "outputs": [],
   "source": []
  }
 ],
 "metadata": {
  "kernelspec": {
   "display_name": "Python 3",
   "language": "python",
   "name": "python3"
  },
  "language_info": {
   "codemirror_mode": {
    "name": "ipython",
    "version": 3
   },
   "file_extension": ".py",
   "mimetype": "text/x-python",
   "name": "python",
   "nbconvert_exporter": "python",
   "pygments_lexer": "ipython3",
   "version": "3.11.3"
  }
 },
 "nbformat": 4,
 "nbformat_minor": 2
}
