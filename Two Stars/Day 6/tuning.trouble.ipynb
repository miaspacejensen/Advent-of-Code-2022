{
 "cells": [
  {
   "cell_type": "markdown",
   "metadata": {},
   "source": [
    "Part 1"
   ]
  },
  {
   "cell_type": "code",
   "execution_count": 67,
   "metadata": {},
   "outputs": [],
   "source": [
    "def get_data(file_name):\n",
    "    with open(file_name, \"r\") as file:\n",
    "        text = file.read() \n",
    "    return text"
   ]
  },
  {
   "cell_type": "code",
   "execution_count": 70,
   "metadata": {},
   "outputs": [
    {
     "name": "stdout",
     "output_type": "stream",
     "text": [
      "Marker 'rjfm' at position: 1140\n"
     ]
    }
   ],
   "source": [
    "text = get_data(\"input.txt\")\n",
    "num_chars = 4\n",
    "chars = []\n",
    "\n",
    "for i, char in enumerate(text):\n",
    "\n",
    "    chars += char\n",
    "\n",
    "    if len(chars[-num_chars:]) == num_chars and len(chars[-num_chars:]) == len(set(chars[-num_chars:])):\n",
    "        joined_chars = \"\".join(chars[-num_chars:])\n",
    "        pos = i + 1\n",
    "        print(f\"Marker '{joined_chars}' at position: {pos}\")\n",
    "        break"
   ]
  },
  {
   "cell_type": "markdown",
   "metadata": {},
   "source": [
    "Part 2"
   ]
  },
  {
   "cell_type": "code",
   "execution_count": 79,
   "metadata": {},
   "outputs": [
    {
     "name": "stdout",
     "output_type": "stream",
     "text": [
      "Marker 'bspvhfngtjmzwr' at position: 3495\n"
     ]
    }
   ],
   "source": [
    "text = get_data(\"input.txt\")\n",
    "num_chars = 14\n",
    "chars = []\n",
    "\n",
    "for i, char in enumerate(text):\n",
    "\n",
    "    chars += char\n",
    "\n",
    "    if len(chars[-num_chars:]) == num_chars and len(chars[-num_chars:]) == len(set(chars[-num_chars:])):\n",
    "        joined_chars = \"\".join(chars[-num_chars:])\n",
    "        pos = i + 1\n",
    "        print(f\"Marker '{joined_chars}' at position: {pos}\")\n",
    "        break"
   ]
  },
  {
   "cell_type": "code",
   "execution_count": null,
   "metadata": {},
   "outputs": [],
   "source": []
  }
 ],
 "metadata": {
  "kernelspec": {
   "display_name": "Python 3",
   "language": "python",
   "name": "python3"
  },
  "language_info": {
   "codemirror_mode": {
    "name": "ipython",
    "version": 3
   },
   "file_extension": ".py",
   "mimetype": "text/x-python",
   "name": "python",
   "nbconvert_exporter": "python",
   "pygments_lexer": "ipython3",
   "version": "3.11.3"
  }
 },
 "nbformat": 4,
 "nbformat_minor": 2
}
