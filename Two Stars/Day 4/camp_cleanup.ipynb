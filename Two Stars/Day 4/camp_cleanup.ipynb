{
 "cells": [
  {
   "cell_type": "markdown",
   "metadata": {},
   "source": [
    "Part 1"
   ]
  },
  {
   "cell_type": "code",
   "execution_count": 35,
   "metadata": {},
   "outputs": [],
   "source": [
    "def get_data(file_name):\n",
    "    with open(file_name, \"r\") as file:\n",
    "        lines = file.read() \n",
    "    lines = lines.split(\"\\n\")\n",
    "    return lines"
   ]
  },
  {
   "cell_type": "code",
   "execution_count": 36,
   "metadata": {},
   "outputs": [],
   "source": [
    "pairs = get_data(\"input.txt\")\n",
    "# pairs"
   ]
  },
  {
   "cell_type": "code",
   "execution_count": 37,
   "metadata": {},
   "outputs": [
    {
     "data": {
      "text/plain": [
       "605"
      ]
     },
     "execution_count": 37,
     "metadata": {},
     "output_type": "execute_result"
    }
   ],
   "source": [
    "total = 0\n",
    "\n",
    "for pair in pairs:\n",
    "    pair_split = pair.rsplit(\",\")\n",
    "\n",
    "    count = 1\n",
    "    lsts = []\n",
    "    for item in pair_split:\n",
    "        start, end = item.rsplit(\"-\")\n",
    "        start = int(start)\n",
    "        end = int(end)\n",
    "\n",
    "        lst = []\n",
    "        for i in range(start, end+1):\n",
    "            lst.append(i)\n",
    "\n",
    "        lsts.append(lst)\n",
    "\n",
    "    overlap = [val for val in lsts[0] if val in lsts[1]]\n",
    "    \n",
    "    if overlap == lsts[0] or overlap == lsts[1]:\n",
    "        total += 1\n",
    "\n",
    "total"
   ]
  },
  {
   "cell_type": "markdown",
   "metadata": {},
   "source": [
    "Part 2"
   ]
  },
  {
   "cell_type": "code",
   "execution_count": 45,
   "metadata": {},
   "outputs": [
    {
     "data": {
      "text/plain": [
       "914"
      ]
     },
     "execution_count": 45,
     "metadata": {},
     "output_type": "execute_result"
    }
   ],
   "source": [
    "total = 0\n",
    "\n",
    "for pair in pairs:\n",
    "    pair_split = pair.rsplit(\",\")\n",
    "\n",
    "    count = 1\n",
    "    lsts = []\n",
    "    for item in pair_split:\n",
    "        start, end = item.rsplit(\"-\")\n",
    "        start = int(start)\n",
    "        end = int(end)\n",
    "\n",
    "        lst = []\n",
    "        for i in range(start, end+1):\n",
    "            lst.append(i)\n",
    "\n",
    "        lsts.append(lst)\n",
    "\n",
    "    overlap = [val for val in lsts[0] if val in lsts[1]]\n",
    "    \n",
    "    if len(overlap) > 0:\n",
    "        total += 1\n",
    "\n",
    "total"
   ]
  },
  {
   "cell_type": "code",
   "execution_count": null,
   "metadata": {},
   "outputs": [],
   "source": []
  }
 ],
 "metadata": {
  "kernelspec": {
   "display_name": "Python 3",
   "language": "python",
   "name": "python3"
  },
  "language_info": {
   "codemirror_mode": {
    "name": "ipython",
    "version": 3
   },
   "file_extension": ".py",
   "mimetype": "text/x-python",
   "name": "python",
   "nbconvert_exporter": "python",
   "pygments_lexer": "ipython3",
   "version": "3.11.3"
  }
 },
 "nbformat": 4,
 "nbformat_minor": 2
}
