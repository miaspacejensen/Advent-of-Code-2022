{
 "cells": [
  {
   "cell_type": "code",
   "execution_count": 4,
   "metadata": {},
   "outputs": [],
   "source": [
    "def get_data(file_name):\n",
    "    with open(file_name, \"r\") as file:\n",
    "        lines = file.read() \n",
    "    lines = lines.split(\"\\n\")\n",
    "    lines = [line.split(\" \") for line in lines]\n",
    "    return lines"
   ]
  },
  {
   "cell_type": "code",
   "execution_count": 29,
   "metadata": {},
   "outputs": [],
   "source": [
    "guide = get_data(\"input.txt\")"
   ]
  },
  {
   "cell_type": "code",
   "execution_count": 30,
   "metadata": {},
   "outputs": [],
   "source": [
    "# A = X = rock\n",
    "# B = Y = paper\n",
    "# C = Z = scissors\n",
    "\n",
    "mapping_dic = {\n",
    "    \"X\": \"A\",\n",
    "    \"Y\": \"B\",\n",
    "    \"Z\": \"C\"\n",
    "}\n",
    "\n",
    "points_dic = {\n",
    "    \"A\": 1,\n",
    "    \"B\": 2,\n",
    "    \"C\": 3\n",
    "}"
   ]
  },
  {
   "cell_type": "code",
   "execution_count": 28,
   "metadata": {},
   "outputs": [
    {
     "name": "stdout",
     "output_type": "stream",
     "text": [
      "14827\n"
     ]
    }
   ],
   "source": [
    "total_points = 0\n",
    "\n",
    "for round in guide:\n",
    "\n",
    "    opp = round[0]\n",
    "    own = mapping_dic[round[1]]\n",
    "\n",
    "    points = 0\n",
    "\n",
    "    if own == \"A\":\n",
    "        points += points_dic[\"A\"]\n",
    "        if opp == \"C\":\n",
    "            points += 6\n",
    "        elif opp == own:\n",
    "            points += 3\n",
    "\n",
    "    elif own == \"B\":\n",
    "        points += points_dic[\"B\"]\n",
    "        if opp == \"A\":\n",
    "            points += 6\n",
    "        elif opp == own:\n",
    "            points += 3\n",
    "\n",
    "    elif own == \"C\":\n",
    "        points += points_dic[\"C\"]\n",
    "        if opp == \"B\":\n",
    "            points += 6\n",
    "        elif opp == own:\n",
    "            points += 3\n",
    "\n",
    "    # print(opp, own, \"->\", points)\n",
    "\n",
    "    total_points += points\n",
    "\n",
    "print(total_points)"
   ]
  },
  {
   "cell_type": "markdown",
   "metadata": {},
   "source": [
    "Part 2"
   ]
  },
  {
   "cell_type": "code",
   "execution_count": 89,
   "metadata": {},
   "outputs": [],
   "source": [
    "guide = get_data(\"input.txt\")\n",
    "# guide = [\n",
    "#     ['A', 'X'], \n",
    "#     ['A', 'Y'], \n",
    "#     ['A', 'Z'], \n",
    "#     ['B', 'X'], \n",
    "#     ['B', 'Y'], \n",
    "#     ['B', 'Z'], \n",
    "#     ['C', 'X'], \n",
    "#     ['C', 'Y'], \n",
    "#     ['C', 'Z']\n",
    "# ]"
   ]
  },
  {
   "cell_type": "code",
   "execution_count": 90,
   "metadata": {},
   "outputs": [],
   "source": [
    "new_mapping_dic = {\n",
    "    \"X\": \"Loss\",\n",
    "    \"Y\": \"Draw\",\n",
    "    \"Z\": \"Win\"\n",
    "}"
   ]
  },
  {
   "cell_type": "code",
   "execution_count": 91,
   "metadata": {},
   "outputs": [],
   "source": [
    "mapping_define = {\n",
    "    \"A\": \"R\",\n",
    "    \"B\": \"P\",\n",
    "    \"C\": \"S\"\n",
    "}"
   ]
  },
  {
   "cell_type": "code",
   "execution_count": 93,
   "metadata": {},
   "outputs": [
    {
     "name": "stdout",
     "output_type": "stream",
     "text": [
      "13889\n"
     ]
    }
   ],
   "source": [
    "total_points = 0\n",
    "\n",
    "for round in guide:\n",
    "\n",
    "    opp = round[0]\n",
    "    result = new_mapping_dic[round[1]]\n",
    "\n",
    "    points = 0\n",
    "\n",
    "    if result == \"Draw\":\n",
    "        points += 3\n",
    "        own = opp\n",
    "\n",
    "    elif result == \"Loss\":\n",
    "        if opp == \"A\":   #rock\n",
    "            own = \"C\"   #scissors\n",
    "        elif opp == \"B\": #paper\n",
    "            own = \"A\"   #rock\n",
    "        elif opp == \"C\": #scissors\n",
    "            own = \"B\"   #paper\n",
    "\n",
    "    elif result == \"Win\":\n",
    "        points += 6\n",
    "        if opp == \"A\":   #rock\n",
    "            own = \"B\"   #paper\n",
    "        elif opp == \"B\": #paper\n",
    "            own = \"C\"   #scissors\n",
    "        elif opp == \"C\": #scissors\n",
    "            own = \"A\"   #rock\n",
    "    \n",
    "    points += points_dic[own]\n",
    "\n",
    "    # print(f\"{opp} ({mapping_define[opp]}) {own} ({mapping_define[own]}) {result} {points}\")\n",
    "\n",
    "    total_points += points\n",
    "\n",
    "print(total_points)"
   ]
  }
 ],
 "metadata": {
  "kernelspec": {
   "display_name": "Python 3",
   "language": "python",
   "name": "python3"
  },
  "language_info": {
   "codemirror_mode": {
    "name": "ipython",
    "version": 3
   },
   "file_extension": ".py",
   "mimetype": "text/x-python",
   "name": "python",
   "nbconvert_exporter": "python",
   "pygments_lexer": "ipython3",
   "version": "3.11.3"
  }
 },
 "nbformat": 4,
 "nbformat_minor": 2
}
