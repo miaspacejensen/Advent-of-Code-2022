{
 "cells": [
  {
   "cell_type": "markdown",
   "metadata": {},
   "source": [
    "Part 1"
   ]
  },
  {
   "cell_type": "code",
   "execution_count": 8,
   "metadata": {},
   "outputs": [],
   "source": [
    "def get_data(file_name):\n",
    "    with open(file_name, \"r\") as file:\n",
    "        lines = file.read() \n",
    "    lines = lines.split(\"\\n\")\n",
    "    return lines"
   ]
  },
  {
   "cell_type": "code",
   "execution_count": 40,
   "metadata": {},
   "outputs": [],
   "source": [
    "rucks = get_data(\"input.txt\")\n",
    "# rucks"
   ]
  },
  {
   "cell_type": "code",
   "execution_count": 41,
   "metadata": {},
   "outputs": [],
   "source": [
    "alphabet = [\n",
    "    \"a\",\"b\",\"c\",\"d\",\"e\",\"f\",\"g\",\"h\",\"i\",\"j\",\"k\",\"l\",\"m\",\n",
    "    \"n\",\"o\",\"p\",\"q\",\"r\",\"s\",\"t\",\"u\",\"v\",\"w\",\"x\",\"y\",\"z\",\n",
    "    \"A\",\"B\",\"C\",\"D\",\"E\",\"F\",\"G\",\"H\",\"I\",\"J\",\"K\",\"L\",\"M\",\n",
    "    \"N\",\"O\",\"P\",\"Q\",\"R\",\"S\",\"T\",\"U\",\"V\",\"W\",\"X\",\"Y\",\"Z\"\n",
    "]\n",
    "\n",
    "priority_dic = {}\n",
    "for i, char in enumerate(alphabet):\n",
    "    priority_dic[char]=i+1"
   ]
  },
  {
   "cell_type": "code",
   "execution_count": 43,
   "metadata": {},
   "outputs": [
    {
     "data": {
      "text/plain": [
       "8153"
      ]
     },
     "execution_count": 43,
     "metadata": {},
     "output_type": "execute_result"
    }
   ],
   "source": [
    "grand_total = 0\n",
    "\n",
    "for ruck in rucks:\n",
    "\n",
    "    # get midway point of rucksack contents\n",
    "    content_len = len(ruck)\n",
    "    midway_point = int(content_len / 2)\n",
    "\n",
    "    # compartment lists\n",
    "    comp1 = [char for char in ruck[:midway_point]]\n",
    "    comp2 = [char for char in ruck[midway_point:]]\n",
    "    \n",
    "    # get intersection between compartments\n",
    "    shared_items = set([item for item in comp1 if item in comp2])\n",
    "\n",
    "    # get priority\n",
    "    total = 0\n",
    "    for item in shared_items:\n",
    "        total += priority_dic[item]\n",
    "\n",
    "    grand_total += total\n",
    "\n",
    "grand_total"
   ]
  },
  {
   "cell_type": "markdown",
   "metadata": {},
   "source": [
    "Part 2"
   ]
  },
  {
   "cell_type": "code",
   "execution_count": 75,
   "metadata": {},
   "outputs": [],
   "source": [
    "rucks = get_data(\"input.txt\")\n",
    "# rucks"
   ]
  },
  {
   "cell_type": "code",
   "execution_count": 76,
   "metadata": {},
   "outputs": [],
   "source": [
    "count = 1\n",
    "groups = []\n",
    "group = []\n",
    "\n",
    "for ruck in rucks:\n",
    "\n",
    "    ruck_lst = [item for item in ruck]\n",
    "\n",
    "    group.append(ruck_lst)\n",
    "\n",
    "    if count == 3:\n",
    "        groups.append(group)\n",
    "        count = 0\n",
    "        group = []\n",
    "\n",
    "    count += 1"
   ]
  },
  {
   "cell_type": "code",
   "execution_count": 78,
   "metadata": {},
   "outputs": [
    {
     "data": {
      "text/plain": [
       "2342"
      ]
     },
     "execution_count": 78,
     "metadata": {},
     "output_type": "execute_result"
    }
   ],
   "source": [
    "grand_total = 0\n",
    "\n",
    "for group in groups:\n",
    "    shared_items = list(set([item for item in group[0] if item in group[1] and item in group[2]]))\n",
    "    # print(shared_items)\n",
    "\n",
    "    # get priority\n",
    "    total = 0\n",
    "    for item in shared_items:\n",
    "        total += priority_dic[item]\n",
    "\n",
    "    grand_total += total\n",
    "\n",
    "grand_total"
   ]
  },
  {
   "cell_type": "code",
   "execution_count": null,
   "metadata": {},
   "outputs": [],
   "source": []
  }
 ],
 "metadata": {
  "kernelspec": {
   "display_name": "Python 3",
   "language": "python",
   "name": "python3"
  },
  "language_info": {
   "codemirror_mode": {
    "name": "ipython",
    "version": 3
   },
   "file_extension": ".py",
   "mimetype": "text/x-python",
   "name": "python",
   "nbconvert_exporter": "python",
   "pygments_lexer": "ipython3",
   "version": "3.11.3"
  }
 },
 "nbformat": 4,
 "nbformat_minor": 2
}
