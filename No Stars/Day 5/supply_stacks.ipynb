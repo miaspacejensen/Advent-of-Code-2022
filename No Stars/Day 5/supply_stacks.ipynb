{
 "cells": [
  {
   "cell_type": "markdown",
   "metadata": {},
   "source": [
    "Part 1"
   ]
  },
  {
   "cell_type": "code",
   "execution_count": 211,
   "metadata": {},
   "outputs": [],
   "source": [
    "def get_data(file_name):\n",
    "    with open(file_name, \"r\") as file:\n",
    "        lines = file.read() \n",
    "    lines = lines.split(\"\\n\\n\")\n",
    "    lines = [line.split(\"\\n\") for line in lines]\n",
    "    return lines"
   ]
  },
  {
   "cell_type": "code",
   "execution_count": 212,
   "metadata": {},
   "outputs": [
    {
     "data": {
      "text/plain": [
       "[['    [D]    ', '[N] [C]    ', '[Z] [M] [P]', ' 1   2   3 '],\n",
       " ['move 1 from 2 to 1',\n",
       "  'move 3 from 1 to 3',\n",
       "  'move 2 from 2 to 1',\n",
       "  'move 1 from 1 to 2']]"
      ]
     },
     "execution_count": 212,
     "metadata": {},
     "output_type": "execute_result"
    }
   ],
   "source": [
    "lines = get_data(\"test_input.txt\")\n",
    "lines"
   ]
  },
  {
   "cell_type": "code",
   "execution_count": 213,
   "metadata": {},
   "outputs": [],
   "source": [
    "stack_drawing = lines[0]\n",
    "stack_height = len(stack_drawing)-1\n",
    "stack_ids = stack_drawing[3].rsplit(\" \")\n",
    "stack_ids = [val for val in stack_ids if val != \"\"]"
   ]
  },
  {
   "cell_type": "code",
   "execution_count": 214,
   "metadata": {},
   "outputs": [
    {
     "data": {
      "text/plain": [
       "{'1': ['Z', 'N'], '2': ['M', 'C', 'D'], '3': ['P']}"
      ]
     },
     "execution_count": 214,
     "metadata": {},
     "output_type": "execute_result"
    }
   ],
   "source": [
    "stacks = {}\n",
    "for id in stack_ids:\n",
    "\n",
    "    pos = stack_drawing[3].find(id)\n",
    "\n",
    "    vals = []\n",
    "    for item in stack_drawing:\n",
    "        val = item[pos]\n",
    "        if val != id and val != \" \":\n",
    "            vals.append(val)\n",
    "\n",
    "    stacks[id] = list(reversed(vals))\n",
    "\n",
    "stacks"
   ]
  },
  {
   "cell_type": "code",
   "execution_count": 218,
   "metadata": {},
   "outputs": [
    {
     "name": "stdout",
     "output_type": "stream",
     "text": [
      "       \n",
      "N  C   \n",
      "Z  M  P\n",
      "0  1  2\n"
     ]
    }
   ],
   "source": [
    "def display_stacks(stacks, stack_height):\n",
    "\n",
    "    stack_vals = list(stacks.values()).copy()\n",
    "\n",
    "    stacks_buffered = []\n",
    "    \n",
    "    for stack in stack_vals:\n",
    "        diff = stack_height - len(stack)\n",
    "        if diff > 0:\n",
    "            stack += [\" \"]*diff\n",
    "        stacks_buffered.append(stack)\n",
    "\n",
    "    for i in list(reversed(range(stack_height))):\n",
    "        ith = [val[i] for val in stacks_buffered]\n",
    "        joined_ith = \"  \".join(ith)\n",
    "        print(joined_ith)\n",
    "    \n",
    "    ids = [str(val) for val in list(range(stack_height))]\n",
    "    print(\"  \".join(ids))\n",
    "\n",
    "display_stacks(stacks, stack_height)"
   ]
  },
  {
   "cell_type": "code",
   "execution_count": 219,
   "metadata": {},
   "outputs": [
    {
     "data": {
      "text/plain": [
       "{'1': ['Z', 'N', ' '], '2': ['M', 'C', ' '], '3': ['P', ' ', ' ']}"
      ]
     },
     "execution_count": 219,
     "metadata": {},
     "output_type": "execute_result"
    }
   ],
   "source": [
    "stacks"
   ]
  },
  {
   "cell_type": "code",
   "execution_count": 220,
   "metadata": {},
   "outputs": [
    {
     "name": "stdout",
     "output_type": "stream",
     "text": [
      "['M', 'C']\n",
      "['Z', 'N', ' ', ' ']\n",
      "       \n",
      "N  C   \n",
      "Z  M  P\n",
      "0  1  2\n",
      "       \n",
      "N  C   \n",
      "Z  M  P\n",
      "0  1  2\n",
      "\n"
     ]
    }
   ],
   "source": [
    "moves = lines[1]\n",
    "\n",
    "# print(list(stacks.values()))\n",
    "# print()\n",
    "\n",
    "for move in moves:\n",
    "\n",
    "    vals = move.rsplit(\" \")\n",
    "    vals = [val for val in vals if val != \"move\" and val != \"from\" and val != \"to\"]\n",
    "\n",
    "    quant = int(vals[0])\n",
    "    source = vals[1]\n",
    "    dest = vals[2]\n",
    "\n",
    "    print(stacks[source][:quant+1])\n",
    "    print(stacks[dest] + stacks[source][quant+1:])\n",
    "\n",
    "    display_stacks(stacks, stack_height)\n",
    "\n",
    "    stacks[source] = stacks[source][:quant+1]\n",
    "    stacks[dest] = stacks[dest] + stacks[source][quant+1:]\n",
    "\n",
    "    display_stacks(stacks, stack_height)\n",
    "\n",
    "    # stacks[source] = stacks[source][:quant]\n",
    "    # stacks[dest] = stacks[dest] + stacks[source][quant:]\n",
    "    \n",
    "    # print(list(stacks.values()))\n",
    "\n",
    "    print()\n",
    "    break\n",
    "    "
   ]
  },
  {
   "cell_type": "code",
   "execution_count": null,
   "metadata": {},
   "outputs": [],
   "source": []
  }
 ],
 "metadata": {
  "kernelspec": {
   "display_name": "Python 3",
   "language": "python",
   "name": "python3"
  },
  "language_info": {
   "codemirror_mode": {
    "name": "ipython",
    "version": 3
   },
   "file_extension": ".py",
   "mimetype": "text/x-python",
   "name": "python",
   "nbconvert_exporter": "python",
   "pygments_lexer": "ipython3",
   "version": "3.11.3"
  }
 },
 "nbformat": 4,
 "nbformat_minor": 2
}
