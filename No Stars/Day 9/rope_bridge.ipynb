{
 "cells": [
  {
   "cell_type": "code",
   "execution_count": 1,
   "metadata": {},
   "outputs": [],
   "source": [
    "def get_data(file_name):\n",
    "    with open(file_name, \"r\") as file:\n",
    "        text = file.read()\n",
    "    lines = text.split(\"\\n\")\n",
    "    moves = [text.split(\" \") for text in lines]\n",
    "    return moves"
   ]
  },
  {
   "cell_type": "code",
   "execution_count": 2,
   "metadata": {},
   "outputs": [
    {
     "data": {
      "text/plain": [
       "[['R', '4'],\n",
       " ['U', '4'],\n",
       " ['L', '3'],\n",
       " ['D', '1'],\n",
       " ['R', '4'],\n",
       " ['D', '1'],\n",
       " ['L', '5'],\n",
       " ['R', '2']]"
      ]
     },
     "execution_count": 2,
     "metadata": {},
     "output_type": "execute_result"
    }
   ],
   "source": [
    "moves = get_data(\"test_input.txt\")\n",
    "moves"
   ]
  },
  {
   "cell_type": "code",
   "execution_count": 3,
   "metadata": {},
   "outputs": [
    {
     "data": {
      "text/plain": [
       "[[0, 0], [0, 4], [-4, 4], [-4, 1], [-3, 1], [-3, 5], [-2, 5], [-2, 0], [-2, 2]]"
      ]
     },
     "execution_count": 3,
     "metadata": {},
     "output_type": "execute_result"
    }
   ],
   "source": [
    "pos = [0, 0]\n",
    "path = []\n",
    "\n",
    "for dir, steps in moves:\n",
    "\n",
    "    steps = int(steps)\n",
    "\n",
    "    sub_path = []\n",
    "\n",
    "    if dir == \"D\":\n",
    "        pos[0] += steps\n",
    "\n",
    "    if dir == \"U\":\n",
    "        pos[0] -= steps\n",
    "\n",
    "    if dir == \"R\":\n",
    "        pos[1] += steps\n",
    "\n",
    "    if dir == \"L\":\n",
    "        pos[1] -= steps\n",
    "\n",
    "    path += [pos[:]]\n",
    "\n",
    "path = [[0, 0]] + path\n",
    "path"
   ]
  },
  {
   "cell_type": "code",
   "execution_count": 4,
   "metadata": {},
   "outputs": [
    {
     "data": {
      "text/plain": [
       "[[0, 0],\n",
       " [0, 1],\n",
       " [0, 2],\n",
       " [0, 3],\n",
       " [0, 4],\n",
       " [-1, 4],\n",
       " [-2, 4],\n",
       " [-3, 4],\n",
       " [-4, 4],\n",
       " [-4, 3],\n",
       " [-4, 2],\n",
       " [-4, 1],\n",
       " [-3, 1],\n",
       " [-3, 2],\n",
       " [-3, 3],\n",
       " [-3, 4],\n",
       " [-3, 5],\n",
       " [-2, 5],\n",
       " [-2, 4],\n",
       " [-2, 3],\n",
       " [-2, 2],\n",
       " [-2, 1],\n",
       " [-2, 0],\n",
       " [-2, 1],\n",
       " [-2, 2]]"
      ]
     },
     "execution_count": 4,
     "metadata": {},
     "output_type": "execute_result"
    }
   ],
   "source": [
    "pos = [0, 0]\n",
    "path = []\n",
    "\n",
    "for dir, steps in moves:\n",
    "    # print(dir, steps)\n",
    "\n",
    "    steps = int(steps)\n",
    "\n",
    "    sub_path = []\n",
    "\n",
    "    if dir == \"D\":\n",
    "        for step in range(1,steps+1):\n",
    "            pos[0] += 1\n",
    "            sub_path += [pos[:]]\n",
    "\n",
    "    if dir == \"U\":\n",
    "        for step in range(1,steps+1):\n",
    "            pos[0] -= 1\n",
    "            sub_path += [pos[:]]\n",
    "\n",
    "    if dir == \"R\":\n",
    "        for step in range(1,steps+1):\n",
    "            pos[1] += 1\n",
    "            sub_path += [pos[:]]\n",
    "\n",
    "    if dir == \"L\":\n",
    "        for step in range(1,steps+1):\n",
    "            pos[1] -= 1\n",
    "            sub_path += [pos[:]]\n",
    "\n",
    "    path += sub_path\n",
    "\n",
    "    # break\n",
    "\n",
    "path = [[0, 0]] + path\n",
    "path"
   ]
  },
  {
   "cell_type": "code",
   "execution_count": 5,
   "metadata": {},
   "outputs": [],
   "source": [
    "row_inds = [pair[0] for pair in path]\n",
    "col_inds = [pair[1] for pair in path]\n",
    "\n",
    "min_row_inds = min(row_inds)\n",
    "min_col_inds = min(col_inds)\n",
    "\n",
    "if min_row_inds < 0:\n",
    "    row_inds = [ind - min_row_inds for ind in row_inds]\n",
    "if min_col_inds < 0:\n",
    "    col_inds = [ind - min_col_inds for ind in col_inds]\n",
    "\n",
    "n_rows = max(row_inds)\n",
    "n_cols = max(col_inds)"
   ]
  },
  {
   "cell_type": "code",
   "execution_count": 8,
   "metadata": {},
   "outputs": [
    {
     "data": {
      "text/plain": [
       "[['.', '.', '.', '.', '.', '.'],\n",
       " ['.', '.', '.', '.', '.', '.'],\n",
       " ['.', '.', '.', '.', '.', '.'],\n",
       " ['.', '.', '.', '.', '.', '.'],\n",
       " ['.', '.', '.', '.', '.', '.']]"
      ]
     },
     "execution_count": 8,
     "metadata": {},
     "output_type": "execute_result"
    }
   ],
   "source": [
    "grid = [['.' for _ in range(n_cols+1)] for _ in range(n_rows+1)]\n",
    "\n",
    "for row_index in range(0, n_rows+1):\n",
    "    for col_index in range(0, n_cols+1):\n",
    "        grid[row_index][col_index] = \".\"\n",
    "\n",
    "grid"
   ]
  },
  {
   "cell_type": "code",
   "execution_count": 13,
   "metadata": {},
   "outputs": [
    {
     "data": {
      "text/plain": [
       "[[4, 0],\n",
       " [4, 1],\n",
       " [4, 2],\n",
       " [4, 3],\n",
       " [4, 4],\n",
       " [3, 4],\n",
       " [2, 4],\n",
       " [1, 4],\n",
       " [0, 4],\n",
       " [0, 3],\n",
       " [0, 2],\n",
       " [0, 1],\n",
       " [1, 1],\n",
       " [1, 2],\n",
       " [1, 3],\n",
       " [1, 4],\n",
       " [1, 5],\n",
       " [2, 5],\n",
       " [2, 4],\n",
       " [2, 3],\n",
       " [2, 2],\n",
       " [2, 1],\n",
       " [2, 0],\n",
       " [2, 1],\n",
       " [2, 2]]"
      ]
     },
     "execution_count": 13,
     "metadata": {},
     "output_type": "execute_result"
    }
   ],
   "source": [
    "adj_path = [list(pos) for pos in zip(row_inds, col_inds)]\n",
    "adj_path"
   ]
  },
  {
   "cell_type": "code",
   "execution_count": 11,
   "metadata": {},
   "outputs": [],
   "source": [
    "# # head path\n",
    "# head_grid = grid.copy()\n",
    "# for i, pos in enumerate(adj_path):\n",
    "#     display(head_grid)\n",
    "#     if i == 0:\n",
    "#         head_grid[pos[0]][pos[1]] = \"S\"\n",
    "#     else:\n",
    "#         head_grid[pos[0]][pos[1]] = \"#\"\n",
    "\n",
    "# head_grid"
   ]
  },
  {
   "cell_type": "code",
   "execution_count": 12,
   "metadata": {},
   "outputs": [
    {
     "name": "stdout",
     "output_type": "stream",
     "text": [
      " head   tail\n",
      "[4, 0] [4, 0]\n",
      "[4, 1] [4, 0]\n",
      "[4, 2] [4, 0]\n",
      "Move 1 space right\n",
      "[4, 3] [4, 1]\n",
      "Move 1 space right\n",
      "[4, 4] [4, 2]\n",
      "Move 1 space right\n",
      "[3, 4] [4, 3]\n",
      "Stay\n",
      "[2, 4] [4, 3]\n",
      "Move 1 space up\n",
      "and diagonal\n",
      "[1, 4] [3, 4]\n",
      "Move 1 space up\n",
      "[0, 4] [2, 4]\n",
      "Move 1 space up\n",
      "[0, 3] [1, 4]\n",
      "Stay\n",
      "[0, 2] [1, 4]\n",
      "Stay\n",
      "[0, 1] [1, 4]\n",
      "Stay\n",
      "[1, 1] [1, 4]\n",
      "[1, 2] [1, 4]\n",
      "Move 1 space left\n",
      "[1, 3] [1, 3]\n",
      "[1, 4] [1, 3]\n",
      "[1, 5] [1, 3]\n",
      "Move 1 space right\n",
      "[2, 5] [1, 4]\n",
      "Stay\n",
      "[2, 4] [1, 4]\n",
      "Stay\n",
      "[2, 3] [1, 4]\n",
      "Stay\n",
      "[2, 2] [1, 4]\n",
      "Stay\n",
      "[2, 1] [1, 4]\n",
      "Stay\n",
      "[2, 0] [1, 4]\n",
      "Stay\n",
      "[2, 1] [1, 4]\n",
      "Stay\n",
      "[2, 2] [1, 4]\n",
      "Stay\n",
      "[[4, 0], [4, 0], [4, 1], [4, 2], [4, 3], [4, 3], [3, 4], [2, 4], [1, 4], [1, 4], [1, 4], [1, 4], [1, 4], [1, 3], [1, 3], [1, 3], [1, 4], [1, 4], [1, 4], [1, 4], [1, 4], [1, 4], [1, 4], [1, 4], [1, 4]]\n"
     ]
    }
   ],
   "source": [
    "head_path = adj_path.copy()\n",
    "tail_path = []\n",
    "pos_tail = head_path[0]\n",
    "\n",
    "print(\" head   tail\")\n",
    "\n",
    "for i, pos_head in enumerate(head_path):\n",
    "\n",
    "    if i == 0:\n",
    "\n",
    "        print(pos_head, pos_tail)\n",
    "\n",
    "        tail_path += [pos_tail[:]]\n",
    "\n",
    "    else:\n",
    "\n",
    "        print(pos_head, pos_tail)\n",
    "\n",
    "        if abs(pos_head[0]-pos_tail[0]) == 1:\n",
    "            \n",
    "            print(\"Stay\")\n",
    "            pos_tail = pos_tail\n",
    "\n",
    "        elif abs(pos_head[0]-pos_tail[0]) == 2:\n",
    "            \n",
    "            if pos_head[0] > pos_tail[0]:\n",
    "                print(\"Move 1 space down\")\n",
    "                pos_tail = [pos_tail[0]+1, pos_tail[1]]\n",
    "            else:\n",
    "                print(\"Move 1 space up\")\n",
    "                pos_tail = [pos_tail[0]-1, pos_tail[1]]\n",
    "            \n",
    "            if abs(pos_head[1]-pos_tail[1]) == 1:\n",
    "                print(\"and diagonal\")\n",
    "                pos_tail = [pos_tail[0], pos_head[1]]\n",
    "            \n",
    "\n",
    "        elif abs(pos_head[1]-pos_tail[1]) == 2:\n",
    "            \n",
    "            if pos_head[1] > pos_tail[1]:\n",
    "                print(\"Move 1 space right\")\n",
    "                pos_tail = [pos_tail[0], pos_tail[1]+1]\n",
    "            else:\n",
    "                print(\"Move 1 space left\")\n",
    "                pos_tail = [pos_tail[0], pos_tail[1]-1]\n",
    "            \n",
    "            if abs(pos_head[0]-pos_tail[0]) == 1:\n",
    "                print(\"and diagonal\")\n",
    "                pos_tail = [pos_head[0], pos_tail[1]]\n",
    "\n",
    "        tail_path += [pos_tail[:]]\n",
    "\n",
    "print(tail_path)"
   ]
  },
  {
   "cell_type": "code",
   "execution_count": 269,
   "metadata": {},
   "outputs": [
    {
     "data": {
      "text/plain": [
       "[['.', '.', '.', '.', '.', '.'],\n",
       " ['.', '.', '.', '.', '.', '.'],\n",
       " ['.', '.', '.', '.', '.', '.'],\n",
       " ['.', '.', '.', '.', '.', '.'],\n",
       " ['.', '.', '.', '.', '.', '.']]"
      ]
     },
     "metadata": {},
     "output_type": "display_data"
    },
    {
     "name": "stdout",
     "output_type": "stream",
     "text": [
      "[4, 0]\n"
     ]
    },
    {
     "data": {
      "text/plain": [
       "[['.', '.', '.', '.', '.', '.'],\n",
       " ['.', '.', '.', '.', '.', '.'],\n",
       " ['.', '.', '.', '.', '.', '.'],\n",
       " ['.', '.', '.', '.', '.', '.'],\n",
       " ['S', '.', '.', '.', '.', '.']]"
      ]
     },
     "metadata": {},
     "output_type": "display_data"
    },
    {
     "name": "stdout",
     "output_type": "stream",
     "text": [
      "[4, 0]\n"
     ]
    },
    {
     "data": {
      "text/plain": [
       "[['.', '.', '.', '.', '.', '.'],\n",
       " ['.', '.', '.', '.', '.', '.'],\n",
       " ['.', '.', '.', '.', '.', '.'],\n",
       " ['.', '.', '.', '.', '.', '.'],\n",
       " ['S', '.', '.', '.', '.', '.']]"
      ]
     },
     "metadata": {},
     "output_type": "display_data"
    },
    {
     "name": "stdout",
     "output_type": "stream",
     "text": [
      "[4, 1]\n"
     ]
    },
    {
     "data": {
      "text/plain": [
       "[['.', '.', '.', '.', '.', '.'],\n",
       " ['.', '.', '.', '.', '.', '.'],\n",
       " ['.', '.', '.', '.', '.', '.'],\n",
       " ['.', '.', '.', '.', '.', '.'],\n",
       " ['S', '#', '.', '.', '.', '.']]"
      ]
     },
     "metadata": {},
     "output_type": "display_data"
    },
    {
     "name": "stdout",
     "output_type": "stream",
     "text": [
      "[4, 2]\n"
     ]
    },
    {
     "data": {
      "text/plain": [
       "[['.', '.', '.', '.', '.', '.'],\n",
       " ['.', '.', '.', '.', '.', '.'],\n",
       " ['.', '.', '.', '.', '.', '.'],\n",
       " ['.', '.', '.', '.', '.', '.'],\n",
       " ['S', '#', '#', '.', '.', '.']]"
      ]
     },
     "metadata": {},
     "output_type": "display_data"
    },
    {
     "name": "stdout",
     "output_type": "stream",
     "text": [
      "[4, 3]\n"
     ]
    },
    {
     "data": {
      "text/plain": [
       "[['.', '.', '.', '.', '.', '.'],\n",
       " ['.', '.', '.', '.', '.', '.'],\n",
       " ['.', '.', '.', '.', '.', '.'],\n",
       " ['.', '.', '.', '.', '.', '.'],\n",
       " ['S', '#', '#', '#', '.', '.']]"
      ]
     },
     "metadata": {},
     "output_type": "display_data"
    },
    {
     "name": "stdout",
     "output_type": "stream",
     "text": [
      "[4, 3]\n"
     ]
    },
    {
     "data": {
      "text/plain": [
       "[['.', '.', '.', '.', '.', '.'],\n",
       " ['.', '.', '.', '.', '.', '.'],\n",
       " ['.', '.', '.', '.', '.', '.'],\n",
       " ['.', '.', '.', '.', '.', '.'],\n",
       " ['S', '#', '#', '#', '.', '.']]"
      ]
     },
     "metadata": {},
     "output_type": "display_data"
    },
    {
     "name": "stdout",
     "output_type": "stream",
     "text": [
      "[3, 4]\n"
     ]
    },
    {
     "data": {
      "text/plain": [
       "[['.', '.', '.', '.', '.', '.'],\n",
       " ['.', '.', '.', '.', '.', '.'],\n",
       " ['.', '.', '.', '.', '.', '.'],\n",
       " ['.', '.', '.', '.', '#', '.'],\n",
       " ['S', '#', '#', '#', '.', '.']]"
      ]
     },
     "metadata": {},
     "output_type": "display_data"
    },
    {
     "name": "stdout",
     "output_type": "stream",
     "text": [
      "[2, 4]\n"
     ]
    },
    {
     "data": {
      "text/plain": [
       "[['.', '.', '.', '.', '.', '.'],\n",
       " ['.', '.', '.', '.', '.', '.'],\n",
       " ['.', '.', '.', '.', '#', '.'],\n",
       " ['.', '.', '.', '.', '#', '.'],\n",
       " ['S', '#', '#', '#', '.', '.']]"
      ]
     },
     "metadata": {},
     "output_type": "display_data"
    },
    {
     "name": "stdout",
     "output_type": "stream",
     "text": [
      "[1, 4]\n"
     ]
    },
    {
     "data": {
      "text/plain": [
       "[['.', '.', '.', '.', '.', '.'],\n",
       " ['.', '.', '.', '.', '#', '.'],\n",
       " ['.', '.', '.', '.', '#', '.'],\n",
       " ['.', '.', '.', '.', '#', '.'],\n",
       " ['S', '#', '#', '#', '.', '.']]"
      ]
     },
     "metadata": {},
     "output_type": "display_data"
    },
    {
     "name": "stdout",
     "output_type": "stream",
     "text": [
      "[1, 4]\n"
     ]
    },
    {
     "data": {
      "text/plain": [
       "[['.', '.', '.', '.', '.', '.'],\n",
       " ['.', '.', '.', '.', '#', '.'],\n",
       " ['.', '.', '.', '.', '#', '.'],\n",
       " ['.', '.', '.', '.', '#', '.'],\n",
       " ['S', '#', '#', '#', '.', '.']]"
      ]
     },
     "metadata": {},
     "output_type": "display_data"
    },
    {
     "name": "stdout",
     "output_type": "stream",
     "text": [
      "[1, 4]\n"
     ]
    },
    {
     "data": {
      "text/plain": [
       "[['.', '.', '.', '.', '.', '.'],\n",
       " ['.', '.', '.', '.', '#', '.'],\n",
       " ['.', '.', '.', '.', '#', '.'],\n",
       " ['.', '.', '.', '.', '#', '.'],\n",
       " ['S', '#', '#', '#', '.', '.']]"
      ]
     },
     "metadata": {},
     "output_type": "display_data"
    },
    {
     "name": "stdout",
     "output_type": "stream",
     "text": [
      "[1, 4]\n"
     ]
    },
    {
     "data": {
      "text/plain": [
       "[['.', '.', '.', '.', '.', '.'],\n",
       " ['.', '.', '.', '.', '#', '.'],\n",
       " ['.', '.', '.', '.', '#', '.'],\n",
       " ['.', '.', '.', '.', '#', '.'],\n",
       " ['S', '#', '#', '#', '.', '.']]"
      ]
     },
     "metadata": {},
     "output_type": "display_data"
    },
    {
     "name": "stdout",
     "output_type": "stream",
     "text": [
      "[1, 4]\n"
     ]
    },
    {
     "data": {
      "text/plain": [
       "[['.', '.', '.', '.', '.', '.'],\n",
       " ['.', '.', '.', '.', '#', '.'],\n",
       " ['.', '.', '.', '.', '#', '.'],\n",
       " ['.', '.', '.', '.', '#', '.'],\n",
       " ['S', '#', '#', '#', '.', '.']]"
      ]
     },
     "metadata": {},
     "output_type": "display_data"
    },
    {
     "name": "stdout",
     "output_type": "stream",
     "text": [
      "[1, 3]\n"
     ]
    },
    {
     "data": {
      "text/plain": [
       "[['.', '.', '.', '.', '.', '.'],\n",
       " ['.', '.', '.', '#', '#', '.'],\n",
       " ['.', '.', '.', '.', '#', '.'],\n",
       " ['.', '.', '.', '.', '#', '.'],\n",
       " ['S', '#', '#', '#', '.', '.']]"
      ]
     },
     "metadata": {},
     "output_type": "display_data"
    },
    {
     "name": "stdout",
     "output_type": "stream",
     "text": [
      "[1, 3]\n"
     ]
    },
    {
     "data": {
      "text/plain": [
       "[['.', '.', '.', '.', '.', '.'],\n",
       " ['.', '.', '.', '#', '#', '.'],\n",
       " ['.', '.', '.', '.', '#', '.'],\n",
       " ['.', '.', '.', '.', '#', '.'],\n",
       " ['S', '#', '#', '#', '.', '.']]"
      ]
     },
     "metadata": {},
     "output_type": "display_data"
    },
    {
     "name": "stdout",
     "output_type": "stream",
     "text": [
      "[1, 3]\n"
     ]
    },
    {
     "data": {
      "text/plain": [
       "[['.', '.', '.', '.', '.', '.'],\n",
       " ['.', '.', '.', '#', '#', '.'],\n",
       " ['.', '.', '.', '.', '#', '.'],\n",
       " ['.', '.', '.', '.', '#', '.'],\n",
       " ['S', '#', '#', '#', '.', '.']]"
      ]
     },
     "metadata": {},
     "output_type": "display_data"
    },
    {
     "name": "stdout",
     "output_type": "stream",
     "text": [
      "[1, 4]\n"
     ]
    },
    {
     "data": {
      "text/plain": [
       "[['.', '.', '.', '.', '.', '.'],\n",
       " ['.', '.', '.', '#', '#', '.'],\n",
       " ['.', '.', '.', '.', '#', '.'],\n",
       " ['.', '.', '.', '.', '#', '.'],\n",
       " ['S', '#', '#', '#', '.', '.']]"
      ]
     },
     "metadata": {},
     "output_type": "display_data"
    },
    {
     "name": "stdout",
     "output_type": "stream",
     "text": [
      "[1, 4]\n"
     ]
    },
    {
     "data": {
      "text/plain": [
       "[['.', '.', '.', '.', '.', '.'],\n",
       " ['.', '.', '.', '#', '#', '.'],\n",
       " ['.', '.', '.', '.', '#', '.'],\n",
       " ['.', '.', '.', '.', '#', '.'],\n",
       " ['S', '#', '#', '#', '.', '.']]"
      ]
     },
     "metadata": {},
     "output_type": "display_data"
    },
    {
     "name": "stdout",
     "output_type": "stream",
     "text": [
      "[1, 4]\n"
     ]
    },
    {
     "data": {
      "text/plain": [
       "[['.', '.', '.', '.', '.', '.'],\n",
       " ['.', '.', '.', '#', '#', '.'],\n",
       " ['.', '.', '.', '.', '#', '.'],\n",
       " ['.', '.', '.', '.', '#', '.'],\n",
       " ['S', '#', '#', '#', '.', '.']]"
      ]
     },
     "metadata": {},
     "output_type": "display_data"
    },
    {
     "name": "stdout",
     "output_type": "stream",
     "text": [
      "[1, 4]\n"
     ]
    },
    {
     "data": {
      "text/plain": [
       "[['.', '.', '.', '.', '.', '.'],\n",
       " ['.', '.', '.', '#', '#', '.'],\n",
       " ['.', '.', '.', '.', '#', '.'],\n",
       " ['.', '.', '.', '.', '#', '.'],\n",
       " ['S', '#', '#', '#', '.', '.']]"
      ]
     },
     "metadata": {},
     "output_type": "display_data"
    },
    {
     "name": "stdout",
     "output_type": "stream",
     "text": [
      "[1, 4]\n"
     ]
    },
    {
     "data": {
      "text/plain": [
       "[['.', '.', '.', '.', '.', '.'],\n",
       " ['.', '.', '.', '#', '#', '.'],\n",
       " ['.', '.', '.', '.', '#', '.'],\n",
       " ['.', '.', '.', '.', '#', '.'],\n",
       " ['S', '#', '#', '#', '.', '.']]"
      ]
     },
     "metadata": {},
     "output_type": "display_data"
    },
    {
     "name": "stdout",
     "output_type": "stream",
     "text": [
      "[1, 4]\n"
     ]
    },
    {
     "data": {
      "text/plain": [
       "[['.', '.', '.', '.', '.', '.'],\n",
       " ['.', '.', '.', '#', '#', '.'],\n",
       " ['.', '.', '.', '.', '#', '.'],\n",
       " ['.', '.', '.', '.', '#', '.'],\n",
       " ['S', '#', '#', '#', '.', '.']]"
      ]
     },
     "metadata": {},
     "output_type": "display_data"
    },
    {
     "name": "stdout",
     "output_type": "stream",
     "text": [
      "[1, 4]\n"
     ]
    },
    {
     "data": {
      "text/plain": [
       "[['.', '.', '.', '.', '.', '.'],\n",
       " ['.', '.', '.', '#', '#', '.'],\n",
       " ['.', '.', '.', '.', '#', '.'],\n",
       " ['.', '.', '.', '.', '#', '.'],\n",
       " ['S', '#', '#', '#', '.', '.']]"
      ]
     },
     "metadata": {},
     "output_type": "display_data"
    },
    {
     "name": "stdout",
     "output_type": "stream",
     "text": [
      "[1, 4]\n"
     ]
    },
    {
     "data": {
      "text/plain": [
       "[['.', '.', '.', '.', '.', '.'],\n",
       " ['.', '.', '.', '#', '#', '.'],\n",
       " ['.', '.', '.', '.', '#', '.'],\n",
       " ['.', '.', '.', '.', '#', '.'],\n",
       " ['S', '#', '#', '#', '.', '.']]"
      ]
     },
     "metadata": {},
     "output_type": "display_data"
    },
    {
     "name": "stdout",
     "output_type": "stream",
     "text": [
      "[1, 4]\n"
     ]
    },
    {
     "data": {
      "text/plain": [
       "[['.', '.', '.', '.', '.', '.'],\n",
       " ['.', '.', '.', '#', '#', '.'],\n",
       " ['.', '.', '.', '.', '#', '.'],\n",
       " ['.', '.', '.', '.', '#', '.'],\n",
       " ['S', '#', '#', '#', '.', '.']]"
      ]
     },
     "execution_count": 269,
     "metadata": {},
     "output_type": "execute_result"
    }
   ],
   "source": [
    "# tail path\n",
    "tail_grid = grid.copy()\n",
    "for i, pos in enumerate(tail_path):\n",
    "    display(tail_grid)\n",
    "    if i == 0 or pos == tail_path[0]:\n",
    "        tail_grid[pos[0]][pos[1]] = \"S\"\n",
    "    else:\n",
    "        tail_grid[pos[0]][pos[1]] = \"#\"\n",
    "    print(pos)\n",
    "\n",
    "tail_grid"
   ]
  }
 ],
 "metadata": {
  "kernelspec": {
   "display_name": "Python 3",
   "language": "python",
   "name": "python3"
  },
  "language_info": {
   "codemirror_mode": {
    "name": "ipython",
    "version": 3
   },
   "file_extension": ".py",
   "mimetype": "text/x-python",
   "name": "python",
   "nbconvert_exporter": "python",
   "pygments_lexer": "ipython3",
   "version": "3.11.3"
  }
 },
 "nbformat": 4,
 "nbformat_minor": 2
}
