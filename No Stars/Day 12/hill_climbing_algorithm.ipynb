{
 "cells": [
  {
   "cell_type": "code",
   "execution_count": 9,
   "metadata": {},
   "outputs": [],
   "source": [
    "def get_data(file_name):\n",
    "    with open(file_name, \"r\") as file:\n",
    "        text = file.read()\n",
    "    lines = text.split(\"\\n\")\n",
    "    return lines"
   ]
  },
  {
   "cell_type": "code",
   "execution_count": 43,
   "metadata": {},
   "outputs": [
    {
     "data": {
      "text/plain": [
       "[['S', 'a', 'b', 'q', 'p', 'o', 'n', 'm'],\n",
       " ['a', 'b', 'c', 'r', 'y', 'x', 'x', 'l'],\n",
       " ['a', 'c', 'c', 's', 'z', 'E', 'x', 'k'],\n",
       " ['a', 'c', 'c', 't', 'u', 'v', 'w', 'j'],\n",
       " ['a', 'b', 'd', 'e', 'f', 'g', 'h', 'i']]"
      ]
     },
     "execution_count": 43,
     "metadata": {},
     "output_type": "execute_result"
    }
   ],
   "source": [
    "lines = get_data(\"test_input.txt\")\n",
    "\n",
    "n_rows = len(lines)\n",
    "n_cols = len(lines[0])\n",
    "\n",
    "grid = [[' ' for _ in range(n_cols)] for _ in range(n_rows)]\n",
    "for i, line in enumerate(lines):\n",
    "    for j, char in enumerate(line):\n",
    "        grid[i][j] = char\n",
    "\n",
    "grid"
   ]
  },
  {
   "cell_type": "code",
   "execution_count": 44,
   "metadata": {},
   "outputs": [],
   "source": [
    "offsets = [[1,0], [0,1], [-1,0], [0,-1]]"
   ]
  },
  {
   "cell_type": "code",
   "execution_count": 45,
   "metadata": {},
   "outputs": [],
   "source": [
    "# def get_offset_positions(pos):\n",
    "#     positions = []\n",
    "#     for offset in offsets:\n",
    "#         position = [v1 + v2 for v1, v2 in zip(pos, offset)]\n",
    "#         positions.append(position)\n",
    "#     return positions\n",
    "\n",
    "# def get_offset_values(pos):\n",
    "#     values = []\n",
    "#     for offset in offsets:\n",
    "#         position = [v1 + v2 for v1, v2 in zip(pos, offset)]\n",
    "#         if all(x >= 0 for x in position):\n",
    "#             value = grid[position[0]][position[1]]\n",
    "#         else:\n",
    "#             value = \"\"\n",
    "#         values.append(value)\n",
    "#     return values\n",
    "\n",
    "# def check_next_values(possible_next_values, available_next_values):\n",
    "#     common_values = list(set(possible_next_values) & set(available_next_values))\n",
    "#     return common_values\n",
    "\n",
    "# def get_positions_next_values(next_values, offset_values, offset_positions):\n",
    "#     d = {}\n",
    "#     for val in next_values:\n",
    "#         indices = [index for index, value in enumerate(offset_values) if value == val]\n",
    "#         pos_lst = []\n",
    "#         for i in indices:\n",
    "#             val_pos = offset_positions[i]\n",
    "#             pos_lst.append(val_pos)\n",
    "#         d[val] = pos_lst\n",
    "#     return d \n",
    "\n",
    "# def get_possible_next_values(current_value):\n",
    "#     if current_value == \"S\":\n",
    "#         possible_next_values = [\"a\"]\n",
    "#     else:\n",
    "#         possible_next_values = [current_value, chr(ord(current_value)+1)]\n",
    "#     return possible_next_values\n",
    "\n",
    "# def is_valid_move(offset_pos):\n",
    "\n",
    "#     return False\n"
   ]
  },
  {
   "cell_type": "code",
   "execution_count": 46,
   "metadata": {},
   "outputs": [],
   "source": [
    "# pos = [0,0]\n",
    "# current_value = grid[pos[0]][pos[1]]\n",
    "# possible_next_values = get_possible_next_values(current_value)\n",
    "# offset_positions = get_offset_positions(pos)\n",
    "# offset_values = get_offset_values(pos)\n",
    "# next_values = check_next_values(possible_next_values, offset_values)\n",
    "# next_positions = get_positions_next_values(next_values, offset_values, offset_positions)\n",
    "# print(f\"Current value: '{current_value}' \\nPossible next values: {possible_next_values} \\nOffset positions: {offset_positions} \\nOffset values: {offset_values} \\nNext positions: {next_positions}\")"
   ]
  },
  {
   "cell_type": "code",
   "execution_count": 47,
   "metadata": {},
   "outputs": [],
   "source": [
    "# pos_path = [[0,0]]\n",
    "# val_path = [\"S\"]\n",
    "# loop = 0\n",
    "# while True:\n",
    "#     pos = pos_path[-1]\n",
    "#     current_value = grid[pos[0]][pos[1]]\n",
    "#     possible_next_values = get_possible_next_values(current_value)\n",
    "#     offset_positions = get_offset_positions(pos)\n",
    "#     offset_values = get_offset_values(pos)\n",
    "#     next_values = check_next_values(possible_next_values, offset_values)\n",
    "#     next_positions = get_positions_next_values(next_values, offset_values, offset_positions)\n",
    "#     # print(f\"{path} \\nCurrent value: '{current_value}' \\nPossible next values: {possible_next_values} \\nOffset positions: {offset_positions} \\nOffset values: {offset_values} \\nNext positions: {next_positions}\\n\")\n",
    "#     print(f\"{pos_path}\")\n",
    "#     loop += 1\n",
    "#     pos_path.append(list(next_positions.values())[0][-1])\n",
    "#     if loop == 20:\n",
    "#         break"
   ]
  },
  {
   "cell_type": "code",
   "execution_count": 54,
   "metadata": {},
   "outputs": [
    {
     "ename": "KeyboardInterrupt",
     "evalue": "",
     "output_type": "error",
     "traceback": [
      "\u001b[1;31m---------------------------------------------------------------------------\u001b[0m",
      "\u001b[1;31mKeyboardInterrupt\u001b[0m                         Traceback (most recent call last)",
      "Cell \u001b[1;32mIn[54], line 59\u001b[0m\n\u001b[0;32m     55\u001b[0m                     parents[new_row][new_col] \u001b[38;5;241m=\u001b[39m (row, col)\n\u001b[0;32m     57\u001b[0m     \u001b[38;5;28;01mreturn\u001b[39;00m \u001b[38;5;241m-\u001b[39m\u001b[38;5;241m1\u001b[39m, []  \u001b[38;5;66;03m# No path found\u001b[39;00m\n\u001b[1;32m---> 59\u001b[0m shortest_path_length \u001b[38;5;241m=\u001b[39m \u001b[43mdijkstra_shortest_path\u001b[49m\u001b[43m(\u001b[49m\u001b[43mgrid\u001b[49m\u001b[43m)\u001b[49m\n\u001b[0;32m     60\u001b[0m \u001b[38;5;28mprint\u001b[39m(\u001b[38;5;124mf\u001b[39m\u001b[38;5;124m\"\u001b[39m\u001b[38;5;124mThe shortest path length is: \u001b[39m\u001b[38;5;132;01m{\u001b[39;00mshortest_path_length\u001b[38;5;132;01m}\u001b[39;00m\u001b[38;5;124m\"\u001b[39m)\n",
      "Cell \u001b[1;32mIn[54], line 40\u001b[0m, in \u001b[0;36mdijkstra_shortest_path\u001b[1;34m(grid)\u001b[0m\n\u001b[0;32m     37\u001b[0m \u001b[38;5;28;01mif\u001b[39;00m row \u001b[38;5;241m==\u001b[39m rows \u001b[38;5;241m-\u001b[39m \u001b[38;5;241m1\u001b[39m \u001b[38;5;129;01mand\u001b[39;00m col \u001b[38;5;241m==\u001b[39m cols \u001b[38;5;241m-\u001b[39m \u001b[38;5;241m1\u001b[39m:\n\u001b[0;32m     38\u001b[0m     \u001b[38;5;66;03m# Reconstruct the path\u001b[39;00m\n\u001b[0;32m     39\u001b[0m     path \u001b[38;5;241m=\u001b[39m []\n\u001b[1;32m---> 40\u001b[0m     \u001b[38;5;28;01mwhile\u001b[39;00m (row, col) \u001b[38;5;129;01mis\u001b[39;00m \u001b[38;5;129;01mnot\u001b[39;00m \u001b[38;5;28;01mNone\u001b[39;00m:\n\u001b[0;32m     41\u001b[0m         path\u001b[38;5;241m.\u001b[39mappend((row, col))\n\u001b[0;32m     42\u001b[0m         row, col \u001b[38;5;241m=\u001b[39m parents[row][col]\n",
      "\u001b[1;31mKeyboardInterrupt\u001b[0m: "
     ]
    }
   ],
   "source": [
    "def is_valid_move(grid, visited, row, col):\n",
    "    \"\"\"Check if the move is within bounds and the cell is not an obstacle or already visited\"\"\"\n",
    "    rows, cols = len(grid), len(grid[0])\n",
    "    return 0 <= row < rows and 0 <= col < cols and not grid[row][col] and not visited[row][col]\n",
    "\n",
    "def get_possible_next_values(current_value):\n",
    "    if current_value == \"S\":\n",
    "        possible_next_values = [\"a\"]\n",
    "    else:\n",
    "        possible_next_values = [current_value, chr(ord(current_value)+1)]\n",
    "    return possible_next_values\n",
    "\n",
    "def dijkstra_shortest_path(grid):\n",
    "    \"\"\"Find the shortest path in a grid using Dijkstra's algorithm\"\"\"\n",
    "    rows, cols = len(grid), len(grid[0])\n",
    "\n",
    "    # Directions for moving in the grid (right, down, left, up)\n",
    "    directions = [(0, 1), (1, 0), (0, -1), (-1, 0)]\n",
    "\n",
    "    # Priority queue initialized with the starting point\n",
    "    pq = [(0, 0, 0)]  # (distance, row, col)\n",
    "    visited = [[False] * cols for _ in range(rows)]\n",
    "    visited[0][0] = True\n",
    "\n",
    "    # To keep track of the path\n",
    "    parents = [[None] * cols for _ in range(rows)]\n",
    "\n",
    "    while pq:\n",
    "        pq.sort()\n",
    "        dist, row, col = pq.pop(0)\n",
    "        val = grid[row][col]\n",
    "        possible_next_vals = get_possible_next_values(val)\n",
    "        # print(val, possible_next_vals)\n",
    "        \n",
    "        # If we have reached the bottom-right corner\n",
    "        # If we have reached the bottom-right corner\n",
    "        if row == rows - 1 and col == cols - 1:\n",
    "            # Reconstruct the path\n",
    "            path = []\n",
    "            while (row, col) is not None:\n",
    "                path.append((row, col))\n",
    "                row, col = parents[row][col]\n",
    "            path.reverse()\n",
    "            return dist, path\n",
    "\n",
    "        # Explore neighbors\n",
    "        for dr, dc in directions:\n",
    "            new_row, new_col = row + dr, col + dc\n",
    "            if new_row >= 0 and new_col >= 0 and new_row < rows and new_col < cols:\n",
    "                new_val = grid[new_row][new_col]\n",
    "                if new_val in possible_next_vals:\n",
    "                    # print(f\"({row}, {col}) {val} -> ({new_row}, {new_col}) {new_val}\")\n",
    "                    visited[new_row][new_col] = True\n",
    "                    pq.append((dist + 1, new_row, new_col))\n",
    "                    parents[new_row][new_col] = (row, col)\n",
    "\n",
    "    return -1, []  # No path found\n",
    "\n",
    "shortest_path_length = dijkstra_shortest_path(grid)\n",
    "print(f\"The shortest path length is: {shortest_path_length}\")\n"
   ]
  },
  {
   "cell_type": "code",
   "execution_count": null,
   "metadata": {},
   "outputs": [],
   "source": []
  }
 ],
 "metadata": {
  "kernelspec": {
   "display_name": "Python 3",
   "language": "python",
   "name": "python3"
  },
  "language_info": {
   "codemirror_mode": {
    "name": "ipython",
    "version": 3
   },
   "file_extension": ".py",
   "mimetype": "text/x-python",
   "name": "python",
   "nbconvert_exporter": "python",
   "pygments_lexer": "ipython3",
   "version": "3.11.3"
  }
 },
 "nbformat": 4,
 "nbformat_minor": 2
}
