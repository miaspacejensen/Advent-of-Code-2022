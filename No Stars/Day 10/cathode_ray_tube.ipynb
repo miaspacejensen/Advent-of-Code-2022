{
 "cells": [
  {
   "cell_type": "code",
   "execution_count": 4,
   "metadata": {},
   "outputs": [],
   "source": [
    "def get_data(file_name):\n",
    "    with open(file_name, \"r\") as file:\n",
    "        text = file.read()\n",
    "    lines = text.split(\"\\n\")\n",
    "    return lines"
   ]
  },
  {
   "cell_type": "code",
   "execution_count": 5,
   "metadata": {},
   "outputs": [],
   "source": [
    "lines = get_data(\"test1_input.txt\")"
   ]
  },
  {
   "cell_type": "code",
   "execution_count": 6,
   "metadata": {},
   "outputs": [
    {
     "data": {
      "text/plain": [
       "['noop', 'addx 3', 'addx -5']"
      ]
     },
     "execution_count": 6,
     "metadata": {},
     "output_type": "execute_result"
    }
   ],
   "source": [
    "lines"
   ]
  },
  {
   "cell_type": "code",
   "execution_count": 54,
   "metadata": {},
   "outputs": [
    {
     "name": "stdout",
     "output_type": "stream",
     "text": [
      "[[2, 3], [2, -5]]\n"
     ]
    }
   ],
   "source": [
    "cycles = 0\n",
    "x = 0\n",
    "actions = []\n",
    "\n",
    "i = 0\n",
    "while True:\n",
    "\n",
    "    try:\n",
    "        line = lines[i]\n",
    "\n",
    "        if line == \"noop\":\n",
    "            cycles += 1\n",
    "\n",
    "        else:\n",
    "            action, value = line.rsplit(\" \")\n",
    "            value = int(value)\n",
    "            action = [2, value]\n",
    "            actions.append(action)\n",
    "            cycles += 1\n",
    "    \n",
    "    except:\n",
    "        pass\n",
    "\n",
    "    i += 1\n",
    "    if i == len(lines) + 2:\n",
    "        break\n",
    "\n",
    "print(actions)"
   ]
  },
  {
   "cell_type": "code",
   "execution_count": 47,
   "metadata": {},
   "outputs": [
    {
     "ename": "IndexError",
     "evalue": "list index out of range",
     "output_type": "error",
     "traceback": [
      "\u001b[1;31m---------------------------------------------------------------------------\u001b[0m",
      "\u001b[1;31mIndexError\u001b[0m                                Traceback (most recent call last)",
      "Cell \u001b[1;32mIn[47], line 1\u001b[0m\n\u001b[1;32m----> 1\u001b[0m \u001b[43mactions\u001b[49m\u001b[43m[\u001b[49m\u001b[43mj\u001b[49m\u001b[43m]\u001b[49m\n",
      "\u001b[1;31mIndexError\u001b[0m: list index out of range"
     ]
    }
   ],
   "source": [
    "actions[j]"
   ]
  },
  {
   "cell_type": "code",
   "execution_count": null,
   "metadata": {},
   "outputs": [],
   "source": [
    "cycles = []\n",
    "for i in range(20, 5000, 40):\n",
    "    cycles.append(i)"
   ]
  },
  {
   "cell_type": "code",
   "execution_count": null,
   "metadata": {},
   "outputs": [],
   "source": [
    "x = 1\n",
    "store = []\n",
    "i = 0\n",
    "cycle_count = 0\n",
    "signal_strengths = []\n",
    "\n",
    "while True:\n",
    "    print(f\"(Cycles {cycle_count}), {x}, {store}\")\n",
    "\n",
    "    store = [[lst[0] + 1] + lst[1:] for lst in store]\n",
    "    \n",
    "    try: \n",
    "        \n",
    "        instr = lines[i]\n",
    "\n",
    "        if instr == \"noop\":\n",
    "            store.append([1, 0])\n",
    "            cycle_count += 1\n",
    "        else:\n",
    "            method, value = instr.split(\" \")\n",
    "            store.append([0, int(value)])\n",
    "            cycle_count += 2\n",
    "    \n",
    "    except:\n",
    "        pass\n",
    "\n",
    "    for item in store:\n",
    "\n",
    "        if item[0] == 2:\n",
    "\n",
    "            x += item[1]\n",
    "\n",
    "            if cycle_count in cycles:\n",
    "                strength = x*cycle_count\n",
    "            elif cycle_count-1 in cycles:\n",
    "                strength = x*(cycle_count-1)\n",
    "            else:\n",
    "                strength = 1\n",
    "\n",
    "            signal_strengths.append(x*strength)\n",
    "\n",
    "            store = [lst for lst in store if lst != item]\n",
    "\n",
    "    if i > len(lines) and len(store) == 0:\n",
    "        break\n",
    "\n",
    "    i += 1"
   ]
  },
  {
   "cell_type": "code",
   "execution_count": null,
   "metadata": {},
   "outputs": [],
   "source": [
    "signal_strengths"
   ]
  }
 ],
 "metadata": {
  "kernelspec": {
   "display_name": "Python 3",
   "language": "python",
   "name": "python3"
  },
  "language_info": {
   "codemirror_mode": {
    "name": "ipython",
    "version": 3
   },
   "file_extension": ".py",
   "mimetype": "text/x-python",
   "name": "python",
   "nbconvert_exporter": "python",
   "pygments_lexer": "ipython3",
   "version": "3.11.3"
  }
 },
 "nbformat": 4,
 "nbformat_minor": 2
}
