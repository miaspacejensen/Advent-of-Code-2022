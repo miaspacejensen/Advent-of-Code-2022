{
 "cells": [
  {
   "cell_type": "markdown",
   "metadata": {},
   "source": [
    "Part 1"
   ]
  },
  {
   "cell_type": "code",
   "execution_count": 3,
   "metadata": {},
   "outputs": [],
   "source": [
    "def get_data(file_name):\n",
    "    with open(file_name, \"r\") as file:\n",
    "        text = file.read()\n",
    "    lines = text.split(\"\\n\")\n",
    "    return lines"
   ]
  },
  {
   "cell_type": "code",
   "execution_count": 4,
   "metadata": {},
   "outputs": [],
   "source": [
    "def display_grid(grid):\n",
    "    for row in grid:\n",
    "        print(\"\".join(row))"
   ]
  },
  {
   "cell_type": "code",
   "execution_count": 5,
   "metadata": {},
   "outputs": [],
   "source": [
    "def scale_paths(paths, sand_origin): \n",
    "\n",
    "    # find global min x\n",
    "    flat_path = [coord for path in paths for coord in path]\n",
    "    x_values = [coord[0] for coord in flat_path]\n",
    "    min_x = min(x_values)\n",
    "\n",
    "    # adjust all path x coords\n",
    "    new_paths = []\n",
    "    for path in paths:\n",
    "        new_path = [[x-min_x, y] for x, y in path]\n",
    "        new_paths.append(new_path)\n",
    "\n",
    "    new_sand_origin = sand_origin = [sand_origin[0]-min_x, sand_origin[1]]\n",
    "\n",
    "    return new_paths, new_sand_origin\n"
   ]
  },
  {
   "cell_type": "code",
   "execution_count": 6,
   "metadata": {},
   "outputs": [],
   "source": [
    "def find_line_coords(path):\n",
    "    len_path = len(path)\n",
    "    lines = []\n",
    "    for i, coord in enumerate(path):\n",
    "        if i < len_path-1:\n",
    "            next_coord = path[i+1]\n",
    "\n",
    "            # print(\"End coords:\", coord, next_coord)\n",
    "\n",
    "            diff_x = coord[0] - next_coord[0]\n",
    "            diff_y = coord[1] - next_coord[1]\n",
    "\n",
    "            new_coords = []\n",
    "            if diff_x != 0 and diff_y == 0:\n",
    "\n",
    "                if diff_x > 0: #Horitonal Left\n",
    "                    # print(\"HL\")\n",
    "                    for i in range(diff_x-1):\n",
    "                        new_coord = [coord[0]-(i+1), coord[1]]\n",
    "                        new_coords.append(new_coord)\n",
    "\n",
    "                else: #Horitonal Right\n",
    "                    # print(\"HR\")\n",
    "                    for i in range(-diff_x-1):\n",
    "                        new_coord = [coord[0]+(i+1), coord[1]]\n",
    "                        new_coords.append(new_coord)\n",
    "\n",
    "            elif diff_x == 0 and diff_y != 0:\n",
    "                if diff_y > 0: #Vertical Up\n",
    "                    # print(\"VU\")\n",
    "                    for i in range(diff_y-1):\n",
    "                        new_coord = [coord[0], coord[1]-(i+1)]\n",
    "                        new_coords.append(new_coord)\n",
    "\n",
    "                else: #Vertical Down\n",
    "                    # print(\"VD\")\n",
    "                    for i in range(-diff_y-1):\n",
    "                        new_coord = [coord[0], coord[1]+(i+1)]\n",
    "                        new_coords.append(new_coord)\n",
    "\n",
    "            line = [coord] + new_coords + [next_coord]\n",
    "            # print(line)\n",
    "            lines += line\n",
    "\n",
    "    return lines\n",
    "\n"
   ]
  },
  {
   "cell_type": "code",
   "execution_count": 163,
   "metadata": {},
   "outputs": [],
   "source": [
    "def get_grid(lines, display=True):\n",
    "\n",
    "    paths = []\n",
    "    for line in lines:\n",
    "        line_split = line.split(\" -> \")\n",
    "        path = [coords.split(\",\") for coords in line_split]\n",
    "        path = [[int(coord) for coord in coords] for coords in path]\n",
    "        paths.append(path)\n",
    "\n",
    "    # scale paths to more user-friendly grid (start x from 0)\n",
    "    sand_origin = [500, 0]\n",
    "    paths, sand_origin = scale_paths(paths, sand_origin) \n",
    "\n",
    "    # find all rock\n",
    "    lines = []\n",
    "    for path in paths:\n",
    "        line = find_line_coords(path)\n",
    "        lines += line\n",
    "\n",
    "    # remove duplicates\n",
    "    lines = list(map(list, dict.fromkeys(map(tuple, lines))))\n",
    "\n",
    "    # generate grid\n",
    "    x_values = [coord[0] for coord in lines]\n",
    "    y_values = [coord[1] for coord in lines]\n",
    "    max_x = max(x_values)\n",
    "    max_y = max(y_values)\n",
    "    grid = [[\".\" for _ in range(max_x + 1)] for _ in range(max_y + 1)]\n",
    "\n",
    "    # add rock and sand origin to grid\n",
    "    for x, y in lines:\n",
    "        grid[y][x] = \"#\"\n",
    "\n",
    "    grid[sand_origin[1]][sand_origin[0]] = \"+\"\n",
    "\n",
    "    if display == True: display_grid(grid) \n",
    "    \n",
    "    return grid, sand_origin\n"
   ]
  },
  {
   "cell_type": "code",
   "execution_count": 193,
   "metadata": {},
   "outputs": [],
   "source": [
    "def check_next_pos(grid, current_pos):\n",
    "\n",
    "    n_rows = len(grid)\n",
    "    n_cols = len(grid[0])\n",
    "\n",
    "    x, y = current_pos\n",
    "    current_val = grid[current_pos[1]][current_pos[0]]\n",
    "\n",
    "    if y == n_rows-1:\n",
    "        print(\"Last row\")\n",
    "\n",
    "    else:\n",
    "        next_pos_down = [x, y+1]\n",
    "        next_pos_left = [x-1, y+1]\n",
    "        next_pos_right = [x+1, y+1]\n",
    "\n",
    "        next_val_down = grid[next_pos_down[1]][next_pos_down[0]]\n",
    "        next_val_left = grid[next_pos_left[1]][next_pos_left[0]]\n",
    "        next_val_right = grid[next_pos_right[1]][next_pos_right[0]]\n",
    "\n",
    "        if next_val_down == \".\":\n",
    "            status = \"Down\"\n",
    "            return next_pos_down, next_val_down, status\n",
    "\n",
    "        elif next_val_left == \".\":\n",
    "            status = \"Left\"\n",
    "            return next_pos_left, next_val_left, status\n",
    "        \n",
    "        elif next_val_right == \".\":\n",
    "            status = \"Right\"\n",
    "            return next_pos_right, next_val_right, status\n",
    "        \n",
    "        else:\n",
    "            status = \"None\"\n",
    "            return current_pos, current_val, status"
   ]
  },
  {
   "cell_type": "code",
   "execution_count": 194,
   "metadata": {},
   "outputs": [
    {
     "name": "stdout",
     "output_type": "stream",
     "text": [
      "10 10\n"
     ]
    }
   ],
   "source": [
    "lines = get_data(\"test_input.txt\")\n",
    "grid, sand_origin = get_grid(lines, display=False)\n",
    "n_rows = len(grid)\n",
    "n_cols = len(grid[0])\n",
    "print(n_rows, n_cols)"
   ]
  },
  {
   "cell_type": "code",
   "execution_count": 195,
   "metadata": {},
   "outputs": [],
   "source": [
    "grid = [['.', '.', '.', '.', '.', '.', '+', '.', '.', '.'],\n",
    "        ['.', '.', '.', '.', '.', '.', '.', '.', '.', '.'],\n",
    "        ['.', '.', '.', '.', '.', '.', 'o', '.', '.', '.'],\n",
    "        ['.', '.', '.', '.', '.', 'o', 'o', 'o', '.', '.'],\n",
    "        ['.', '.', '.', '.', '#', 'o', 'o', 'o', '#', '#'],\n",
    "        ['.', '.', '.', 'o', '#', 'o', 'o', 'o', '#', '.'],\n",
    "        ['.', '.', '#', '#', '#', 'o', 'o', 'o', '#', '.'],\n",
    "        ['.', '.', '.', '.', 'o', 'o', 'o', 'o', '#', '.'],\n",
    "        ['.', 'o', '.', 'o', 'o', 'o', 'o', 'o', '#', '.'],\n",
    "        ['.', '#', '#', '#', '#', '#', '#', '#', '#', '.']]"
   ]
  },
  {
   "cell_type": "code",
   "execution_count": 196,
   "metadata": {},
   "outputs": [
    {
     "name": "stdout",
     "output_type": "stream",
     "text": [
      "[6, 1] . Down\n",
      "[5, 2] . Left\n",
      "[4, 3] . Left\n",
      "[3, 4] . Left\n",
      "[2, 5] . Left\n",
      "[1, 6] . Left\n",
      "[1, 7] . Down\n",
      "[0, 8] . Left\n",
      "[0, 9] . Down\n",
      "Last row\n"
     ]
    },
    {
     "ename": "TypeError",
     "evalue": "cannot unpack non-iterable NoneType object",
     "output_type": "error",
     "traceback": [
      "\u001b[1;31m---------------------------------------------------------------------------\u001b[0m",
      "\u001b[1;31mTypeError\u001b[0m                                 Traceback (most recent call last)",
      "Cell \u001b[1;32mIn[196], line 9\u001b[0m\n\u001b[0;32m      7\u001b[0m \u001b[38;5;28;01mwhile\u001b[39;00m \u001b[38;5;28;01mTrue\u001b[39;00m:\n\u001b[0;32m      8\u001b[0m     last_pos \u001b[38;5;241m=\u001b[39m current_pos\n\u001b[1;32m----> 9\u001b[0m     current_pos, current_val, status \u001b[38;5;241m=\u001b[39m check_next_pos(grid, current_pos)\n\u001b[0;32m     10\u001b[0m     \u001b[38;5;28mprint\u001b[39m(current_pos, current_val, status)\n\u001b[0;32m     11\u001b[0m     \u001b[38;5;28;01mif\u001b[39;00m status \u001b[38;5;241m==\u001b[39m \u001b[38;5;124m\"\u001b[39m\u001b[38;5;124mNone\u001b[39m\u001b[38;5;124m\"\u001b[39m:\n",
      "\u001b[1;31mTypeError\u001b[0m: cannot unpack non-iterable NoneType object"
     ]
    }
   ],
   "source": [
    "units = 0\n",
    "while True:\n",
    "    current_pos = sand_origin\n",
    "\n",
    "    # try:\n",
    "    last_pos = []\n",
    "    while True:\n",
    "        last_pos = current_pos\n",
    "        current_pos, current_val, status = check_next_pos(grid, current_pos)\n",
    "        print(current_pos, current_val, status)\n",
    "        if status == \"None\":\n",
    "            \n",
    "            grid[current_pos[1]][current_pos[0]]=\"o\"\n",
    "            units += 1\n",
    "            # display_grid(grid)\n",
    "            break\n",
    "\n",
    "    # except IndexError:\n",
    "    #     # print(\"Void\")\n",
    "    #     display_grid(grid)\n",
    "    #     print(f\"{units} units of sand\")\n",
    "    #     break"
   ]
  },
  {
   "cell_type": "markdown",
   "metadata": {},
   "source": [
    "Part 2"
   ]
  },
  {
   "cell_type": "code",
   "execution_count": null,
   "metadata": {},
   "outputs": [],
   "source": []
  }
 ],
 "metadata": {
  "kernelspec": {
   "display_name": "Python 3",
   "language": "python",
   "name": "python3"
  },
  "language_info": {
   "codemirror_mode": {
    "name": "ipython",
    "version": 3
   },
   "file_extension": ".py",
   "mimetype": "text/x-python",
   "name": "python",
   "nbconvert_exporter": "python",
   "pygments_lexer": "ipython3",
   "version": "3.11.3"
  }
 },
 "nbformat": 4,
 "nbformat_minor": 2
}
