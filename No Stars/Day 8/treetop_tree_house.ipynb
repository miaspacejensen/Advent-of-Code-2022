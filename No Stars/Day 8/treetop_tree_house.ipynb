{
 "cells": [
  {
   "cell_type": "markdown",
   "metadata": {},
   "source": [
    "Part 1"
   ]
  },
  {
   "cell_type": "code",
   "execution_count": 1,
   "metadata": {},
   "outputs": [],
   "source": [
    "def get_data(file_name):\n",
    "    with open(file_name, \"r\") as file:\n",
    "        text = file.read()\n",
    "    lines = text.split(\"\\n\")\n",
    "    return lines"
   ]
  },
  {
   "cell_type": "code",
   "execution_count": 135,
   "metadata": {},
   "outputs": [],
   "source": [
    "lines = get_data(\"input.txt\")"
   ]
  },
  {
   "cell_type": "code",
   "execution_count": 138,
   "metadata": {},
   "outputs": [],
   "source": [
    "nrows = len(lines)\n",
    "n_cols = len(lines[0])\n",
    "\n",
    "grid = [['.' for _ in range(n_cols)] for _ in range(nrows)]\n",
    "\n",
    "for row_index, row in enumerate(lines):\n",
    "    for col_index, col in enumerate(row):\n",
    "        value = int(row[col_index])\n",
    "        grid[row_index][col_index] = value\n",
    "\n",
    "# grid"
   ]
  },
  {
   "cell_type": "code",
   "execution_count": 139,
   "metadata": {},
   "outputs": [],
   "source": [
    "\n",
    "def get_surround_lsts(grid, pos):\n",
    "    row_index = pos[0]\n",
    "    col_index = pos[1]\n",
    "    val = grid[row_index][col_index]\n",
    "\n",
    "    row_vals = grid[row_index][:]\n",
    "    row_vals[col_index] = \"X\"\n",
    "    left = list(reversed(row_vals[:col_index])) # sort in to out\n",
    "    right = row_vals[col_index+1:]\n",
    "\n",
    "    col_vals = [row[col_index] for row in grid]\n",
    "    col_vals[row_index] = \"X\"\n",
    "    top = list(reversed(col_vals[:row_index])) # sort in to out\n",
    "    bottom = col_vals[row_index+1:]\n",
    "\n",
    "    result = []\n",
    "    \n",
    "    if len(left) > 0 and max(left) >= val: #hidden from left\n",
    "        result.append(0)\n",
    "    else:\n",
    "        result.append(1)\n",
    "\n",
    "    if len(right) > 0 and max(right) >= val: #hidden from right\n",
    "        result.append(0)\n",
    "    else:\n",
    "        result.append(1)\n",
    "\n",
    "    if len(bottom) > 0 and max(bottom) >= val: #hidden from bottom\n",
    "        result.append(0)\n",
    "    else:\n",
    "        result.append(1)\n",
    "\n",
    "    if len(top) > 0 and max(top) >= val: #hidden from top\n",
    "        result.append(0)\n",
    "    else:\n",
    "        result.append(1)\n",
    "\n",
    "    return result"
   ]
  },
  {
   "cell_type": "code",
   "execution_count": 140,
   "metadata": {},
   "outputs": [],
   "source": [
    "hidden_trees = 0\n",
    "for row_index, row in enumerate(lines):\n",
    "    for col_index, col in enumerate(row):\n",
    "        \n",
    "        val = grid[row_index][col_index]\n",
    "        pos = [row_index, col_index]\n",
    "\n",
    "        if pos[0] == 0 or pos[1] == 0 or pos[0] == nrows or pos[1] == n_cols:\n",
    "            pass\n",
    "\n",
    "        else:\n",
    "            result = get_surround_lsts(grid, pos)\n",
    "            sum_hidden = sum(result)\n",
    "\n",
    "            if sum_hidden == 0:\n",
    "                hidden_trees += 1\n",
    "\n",
    "            # print(result)"
   ]
  },
  {
   "cell_type": "code",
   "execution_count": 141,
   "metadata": {},
   "outputs": [
    {
     "data": {
      "text/plain": [
       "1662"
      ]
     },
     "execution_count": 141,
     "metadata": {},
     "output_type": "execute_result"
    }
   ],
   "source": [
    "total_trees = nrows*n_cols\n",
    "visible_trees = total_trees - hidden_trees\n",
    "visible_trees"
   ]
  },
  {
   "cell_type": "markdown",
   "metadata": {},
   "source": [
    "Part 2"
   ]
  },
  {
   "cell_type": "code",
   "execution_count": 144,
   "metadata": {},
   "outputs": [
    {
     "data": {
      "text/plain": [
       "[[3, 0, 3, 7, 3],\n",
       " [2, 5, 5, 1, 2],\n",
       " [6, 5, 3, 3, 2],\n",
       " [3, 3, 5, 4, 9],\n",
       " [3, 5, 3, 9, 0]]"
      ]
     },
     "execution_count": 144,
     "metadata": {},
     "output_type": "execute_result"
    }
   ],
   "source": [
    "lines = get_data(\"test_input.txt\")\n",
    "\n",
    "nrows = len(lines)\n",
    "n_cols = len(lines[0])\n",
    "\n",
    "grid = [['.' for _ in range(n_cols)] for _ in range(nrows)]\n",
    "\n",
    "for row_index, row in enumerate(lines):\n",
    "    for col_index, col in enumerate(row):\n",
    "        value = int(row[col_index])\n",
    "        grid[row_index][col_index] = value\n",
    "\n",
    "grid"
   ]
  },
  {
   "cell_type": "code",
   "execution_count": null,
   "metadata": {},
   "outputs": [],
   "source": []
  }
 ],
 "metadata": {
  "kernelspec": {
   "display_name": "Python 3",
   "language": "python",
   "name": "python3"
  },
  "language_info": {
   "codemirror_mode": {
    "name": "ipython",
    "version": 3
   },
   "file_extension": ".py",
   "mimetype": "text/x-python",
   "name": "python",
   "nbconvert_exporter": "python",
   "pygments_lexer": "ipython3",
   "version": "3.11.3"
  }
 },
 "nbformat": 4,
 "nbformat_minor": 2
}
