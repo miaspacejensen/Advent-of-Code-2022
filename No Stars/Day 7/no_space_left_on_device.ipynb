{
 "cells": [
  {
   "cell_type": "code",
   "execution_count": 1,
   "metadata": {},
   "outputs": [],
   "source": [
    "def get_data(file_name):\n",
    "    with open(file_name, \"r\") as file:\n",
    "        text = file.read()\n",
    "    lines = text.split(\"\\n\")\n",
    "    return lines"
   ]
  },
  {
   "cell_type": "code",
   "execution_count": 2,
   "metadata": {},
   "outputs": [
    {
     "data": {
      "text/plain": [
       "['$ cd /',\n",
       " '$ ls',\n",
       " 'dir a',\n",
       " '14848514 b.txt',\n",
       " '8504156 c.dat',\n",
       " 'dir d',\n",
       " '$ cd a',\n",
       " '$ ls',\n",
       " 'dir e',\n",
       " '29116 f',\n",
       " '2557 g',\n",
       " '62596 h.lst',\n",
       " '$ cd e',\n",
       " '$ ls',\n",
       " '584 i',\n",
       " '$ cd ..',\n",
       " '$ cd ..',\n",
       " '$ cd d',\n",
       " '$ ls',\n",
       " '4060174 j',\n",
       " '8033020 d.log',\n",
       " '5626152 d.ext',\n",
       " '7214296 k']"
      ]
     },
     "execution_count": 2,
     "metadata": {},
     "output_type": "execute_result"
    }
   ],
   "source": [
    "lines = get_data(\"test_input.txt\")\n",
    "lines"
   ]
  },
  {
   "cell_type": "code",
   "execution_count": 3,
   "metadata": {},
   "outputs": [
    {
     "name": "stdout",
     "output_type": "stream",
     "text": [
      "- / (dir)\n",
      "  - b.txt (file, size=14848514)\n",
      "  - c.dat (file, size=8504156)\n",
      "  - a (dir)\n",
      "    - f (file, size=29116)\n",
      "    - g (file, size=2557)\n",
      "    - h.lst (file, size=62596)\n",
      "    - e (dir)\n",
      "      - i (file, size=584)\n",
      "    - e (dir)\n",
      "  - e (dir)\n",
      "  - d (dir)\n",
      "    - j (file, size=4060174)\n",
      "    - d.log (file, size=8033020)\n",
      "    - d.ext (file, size=5626152)\n",
      "    - k (file, size=7214296)\n",
      "['/ (dir)']\n"
     ]
    }
   ],
   "source": [
    "system = []\n",
    "pos = 1\n",
    "for line in lines:        \n",
    "    if line.startswith(\"$ cd \"):\n",
    "        if \"/\" in line:\n",
    "            pos = 1\n",
    "            folder = \"/ (dir)\"\n",
    "            print(\"-\", folder)\n",
    "            system += [folder]\n",
    "        elif \"..\" in line:\n",
    "            pos -= 1\n",
    "            print(\"  \"*pos + \"- \" + folder)\n",
    "        else:\n",
    "            folder = line.rsplit(\"$ cd \")[1] + \" (dir)\"\n",
    "            print(\"  \"*pos + \"- \" + folder)\n",
    "            pos += 1\n",
    "    else:\n",
    "        if \"dir\" not in line and \"$\" not in line:\n",
    "            line_split = line.split(\" \")\n",
    "            file_name = line_split[1]\n",
    "            file_size = line_split[0]\n",
    "            print(\"  \"*pos + \"- \" + file_name + \" (file, size=\" + file_size + \")\")\n",
    "\n",
    "print(system)"
   ]
  },
  {
   "cell_type": "code",
   "execution_count": 17,
   "metadata": {},
   "outputs": [
    {
     "name": "stdout",
     "output_type": "stream",
     "text": [
      "- / (dir)\n",
      "  - b.txt (file, size=14848514)\n",
      "  - c.dat (file, size=8504156)\n",
      "  - a (dir)\n",
      "    - f (file, size=29116)\n",
      "    - g (file, size=2557)\n",
      "    - e (dir)\n",
      "      - i (file, size=584)\n",
      "    - e (dir)\n",
      "  - e (dir)\n",
      "  - d (dir)\n",
      "    - j (file, size=4060174)\n",
      "    - d.log (file, size=8033020)\n",
      "    - d.ext (file, size=5626152)\n",
      "    - k (file, size=7214296)\n",
      "['/ (dir)']\n"
     ]
    }
   ],
   "source": [
    "system = []\n",
    "pos = 1\n",
    "last_commmand = \"\"\n",
    "for line in lines:        \n",
    "    if line.startswith(\"$ cd \"):\n",
    "        # print(\"cd\")\n",
    "        last_commmand = \"$ cd\"\n",
    "        if \"/\" in line:\n",
    "            pos = 1\n",
    "            folder = \"/ (dir)\"\n",
    "            print(\"-\", folder)\n",
    "            system += [folder]\n",
    "        elif \"..\" in line:\n",
    "            pos -= 1\n",
    "            print(\"  \"*pos + \"- \" + folder)\n",
    "        else:\n",
    "            folder = line.rsplit(\"$ cd \")[1] + \" (dir)\"\n",
    "            print(\"  \"*pos + \"- \" + folder)\n",
    "            pos += 1\n",
    "    elif line.startswith(\"$ ls\"):\n",
    "        # print(\"ls\")\n",
    "        last_commmand = \"$ ls\"\n",
    "    elif \"dir\" not in line and \"ls\" not in line and \"$\" not in line and last_commmand == \"$ ls\":\n",
    "        line_split = line.split(\" \")\n",
    "        file_name = line_split[1]\n",
    "        file_size = line_split[0]\n",
    "        print(\"  \"*pos + \"- \" + file_name + \" (file, size=\" + file_size + \")\")\n",
    "\n",
    "    # else:\n",
    "    #     if \"dir\" not in line and \"$\" not in line:\n",
    "    #         line_split = line.split(\" \")\n",
    "    #         file_name = line_split[1]\n",
    "    #         file_size = line_split[0]\n",
    "    #         print(\"  \"*pos + \"- \" + file_name + \" (file, size=\" + file_size + \")\")\n",
    "\n",
    "print(system)"
   ]
  },
  {
   "cell_type": "code",
   "execution_count": 51,
   "metadata": {},
   "outputs": [
    {
     "name": "stdout",
     "output_type": "stream",
     "text": [
      "   $ cd /\n",
      "Command\n",
      "> Root\n",
      "   $ ls\n",
      "Command\n",
      "> Contents List\n",
      "   dir a\n",
      "   14848514 b.txt\n",
      "   8504156 c.dat\n",
      "   dir d\n",
      "   $ cd a\n",
      "Command\n",
      "   $ ls\n",
      "Command\n",
      "> Contents List\n",
      "   dir e\n",
      "   29116 f\n",
      "   2557 g\n",
      "   62596 h.lst\n",
      "   $ cd e\n",
      "Command\n",
      "   $ ls\n",
      "Command\n",
      "> Contents List\n",
      "   584 i\n",
      "   $ cd ..\n",
      "Command\n",
      "   $ cd ..\n",
      "Command\n",
      "   $ cd d\n",
      "Command\n",
      "   $ ls\n",
      "Command\n",
      "> Contents List\n",
      "   4060174 j\n",
      "   8033020 d.log\n",
      "   5626152 d.ext\n",
      "   7214296 k\n"
     ]
    }
   ],
   "source": [
    "pos = 0\n",
    "last_command = \"\"\n",
    "lst = []\n",
    "\n",
    "for line in lines:\n",
    "\n",
    "    print(\"  \", line)\n",
    "\n",
    "    if line.startswith(\"$\"):\n",
    "\n",
    "        print(\"Command\")\n",
    "\n",
    "        if line.startswith(\"$ cd \"):\n",
    "\n",
    "            last_command = \"$ cd\"\n",
    "\n",
    "            if \"/\" in line:\n",
    "                print(\"> Root\")\n",
    "                pos = 0\n",
    "            elif \"..\" in line:\n",
    "                pos -= 1\n",
    "            else:\n",
    "                pos += 1\n",
    "\n",
    "        elif line.startswith(\"$ ls\"):\n",
    "            \n",
    "            last_command = \"$ ls\"\n",
    "\n",
    "            print(\"> Contents List\")\n",
    "\n",
    "        elif last_command == \"$ ls\":\n",
    "            lst.append(line)\n",
    "            print(\"   \", lst)\n",
    "        \n"
   ]
  },
  {
   "cell_type": "code",
   "execution_count": null,
   "metadata": {},
   "outputs": [],
   "source": []
  }
 ],
 "metadata": {
  "kernelspec": {
   "display_name": "Python 3",
   "language": "python",
   "name": "python3"
  },
  "language_info": {
   "codemirror_mode": {
    "name": "ipython",
    "version": 3
   },
   "file_extension": ".py",
   "mimetype": "text/x-python",
   "name": "python",
   "nbconvert_exporter": "python",
   "pygments_lexer": "ipython3",
   "version": "3.11.3"
  }
 },
 "nbformat": 4,
 "nbformat_minor": 2
}
