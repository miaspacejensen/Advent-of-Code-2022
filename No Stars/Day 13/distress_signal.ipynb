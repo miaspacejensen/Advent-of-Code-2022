{
 "cells": [
  {
   "cell_type": "code",
   "execution_count": 10,
   "metadata": {},
   "outputs": [],
   "source": [
    "def get_data(file_name):\n",
    "    with open(file_name, \"r\") as file:\n",
    "        text = file.read()\n",
    "    list = text.split(\"\\n\\n\")\n",
    "    pairs = [pair.split(\"\\n\") for pair in list]\n",
    "    return pairs"
   ]
  },
  {
   "cell_type": "code",
   "execution_count": 52,
   "metadata": {},
   "outputs": [],
   "source": [
    "def evaluate_pairs(pairs):\n",
    "    pairs_eval = []\n",
    "    for packet1, packet2 in pairs:\n",
    "        pair_eval = [eval(packet1), eval(packet2)]\n",
    "        pairs_eval += [pair_eval]\n",
    "    return pairs_eval"
   ]
  },
  {
   "cell_type": "code",
   "execution_count": 54,
   "metadata": {},
   "outputs": [
    {
     "data": {
      "text/plain": [
       "[[[1, 1, 3, 1, 1], [1, 1, 5, 1, 1]],\n",
       " [[[1], [2, 3, 4]], [[1], 4]],\n",
       " [[9], [[8, 7, 6]]],\n",
       " [[[4, 4], 4, 4], [[4, 4], 4, 4, 4]],\n",
       " [[7, 7, 7, 7], [7, 7, 7]],\n",
       " [[], [3]],\n",
       " [[[[]]], [[]]],\n",
       " [[1, [2, [3, [4, [5, 6, 7]]]], 8, 9], [1, [2, [3, [4, [5, 6, 0]]]], 8, 9]]]"
      ]
     },
     "execution_count": 54,
     "metadata": {},
     "output_type": "execute_result"
    }
   ],
   "source": [
    "pairs = get_data(\"test_input.txt\")\n",
    "pairs = evaluate_pairs(pairs)\n",
    "pairs"
   ]
  },
  {
   "cell_type": "code",
   "execution_count": 90,
   "metadata": {},
   "outputs": [
    {
     "name": "stdout",
     "output_type": "stream",
     "text": [
      "----------\n",
      "[1, 1]\n",
      "[1, 1]\n",
      "[3, 5]\n",
      "[1, 1]\n",
      "[1, 1]\n",
      "Correct Order\n",
      "----------\n",
      "[[1], [1]]\n",
      "[[2, 3, 4], 4]\n",
      "Mixed Types\n",
      "[[2, 3, 4], [4]]\n",
      "----------\n",
      "[9, [8, 7, 6]]\n",
      "Mixed Types\n",
      "[[9], [8, 7, 6]]\n",
      "----------\n",
      "[[4, 4], [4, 4]]\n",
      "[4, 4]\n",
      "[4, 4]\n",
      "Correct Order\n",
      "----------\n",
      "[7, 7]\n",
      "[7, 7]\n",
      "[7, 7]\n",
      "Correct Order\n",
      "----------\n",
      "Correct Order\n",
      "----------\n",
      "[[[]], []]\n",
      "Incorrect order\n",
      "----------\n",
      "[1, 1]\n",
      "[[2, [3, [4, [5, 6, 7]]]], [2, [3, [4, [5, 6, 0]]]]]\n",
      "Incorrect order\n"
     ]
    }
   ],
   "source": [
    "def compare_packets(pair):\n",
    "    packet1, packet2 = pair\n",
    "    print(\"----------\")\n",
    "    i = 0\n",
    "    while True:\n",
    "        try:\n",
    "            left = packet1[i]\n",
    "            right = packet2[i]\n",
    "            print([left, right])\n",
    "            if left > right:\n",
    "                print(\"Incorrect order\")\n",
    "                break\n",
    "            else:\n",
    "                i += 1\n",
    "        except IndexError:\n",
    "            print(\"Correct Order\")\n",
    "            break\n",
    "        except TypeError:\n",
    "            print(\"Mixed Types\")\n",
    "            if isinstance(left, int) and isinstance(right, list):\n",
    "                left = [left]\n",
    "            elif isinstance(left, list) and isinstance(right, int):\n",
    "                right = [right]\n",
    "            new_pair = [left, right]\n",
    "            print(new_pair)\n",
    "            break\n",
    "\n",
    "for pair in pairs:\n",
    "    compare_packets(pair)"
   ]
  }
 ],
 "metadata": {
  "kernelspec": {
   "display_name": "Python 3",
   "language": "python",
   "name": "python3"
  },
  "language_info": {
   "codemirror_mode": {
    "name": "ipython",
    "version": 3
   },
   "file_extension": ".py",
   "mimetype": "text/x-python",
   "name": "python",
   "nbconvert_exporter": "python",
   "pygments_lexer": "ipython3",
   "version": "3.11.3"
  }
 },
 "nbformat": 4,
 "nbformat_minor": 2
}
